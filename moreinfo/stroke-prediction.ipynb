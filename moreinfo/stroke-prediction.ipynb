{
 "cells": [
  {
   "cell_type": "markdown",
   "metadata": {
    "papermill": {
     "duration": 0.064519,
     "end_time": "2022-08-01T09:42:49.133288",
     "exception": false,
     "start_time": "2022-08-01T09:42:49.068769",
     "status": "completed"
    },
    "tags": []
   },
   "source": [
    "# Stroke Prediction Model (Binary Classification)\n",
    "\n",
    "### Important remark: The data is strongly imbalanced in this case: We have 4861 patients with target=0 (no stroke), but only 249 (<5%) cases with target=1 (stroke). By using a trivial predictor which always returns 0 we can achieve an accuracy of 4861/5110 = 95.13%. This sounds at first like a good performance, however, this trivial predictor is completely useless as it has absolutely no discriminative power. We can see that accuracy is not a really useful metric in the context of strongly imbalanced data. In the following we will - for the sake of completeness - evaluate also accuracy but our focus will be on AUC (area under curve) as performance metric instead (our trivial predictor would have an AUC of 0.5)!\n",
    "\n",
    "\n",
    "## Table of Contents\n",
    "* [Import and first glance](#1)\n",
    "* [Data Cleansing](#2)\n",
    "* [Numerical Features](#3)\n",
    "* [Categorical Features](#4)\n",
    "* [Target](#5)\n",
    "* [Build Model](#6)\n",
    "* [Evaluate on Training Data](#7)\n",
    "* [Evaluate on Test Set](#8)"
   ]
  },
  {
   "cell_type": "code",
   "execution_count": 1,
   "metadata": {
    "_cell_guid": "b1076dfc-b9ad-4769-8c92-a6c4dae69d19",
    "_uuid": "8f2839f25d086af736a60e9eeb907d3b93b6e0e5",
    "execution": {
     "iopub.execute_input": "2022-08-01T09:42:49.256919Z",
     "iopub.status.busy": "2022-08-01T09:42:49.256054Z",
     "iopub.status.idle": "2022-08-01T09:42:50.279125Z",
     "shell.execute_reply": "2022-08-01T09:42:50.279612Z",
     "shell.execute_reply.started": "2022-08-01T09:38:28.883389Z"
    },
    "papermill": {
     "duration": 1.08621,
     "end_time": "2022-08-01T09:42:50.279919",
     "exception": false,
     "start_time": "2022-08-01T09:42:49.193709",
     "status": "completed"
    },
    "tags": []
   },
   "outputs": [],
   "source": [
    "# packages\n",
    "\n",
    "# standard\n",
    "import numpy as np\n",
    "import pandas as pd\n",
    "import time\n",
    "\n",
    "# plot\n",
    "import matplotlib.pyplot as plt\n",
    "import seaborn as sns\n",
    "\n",
    "# statistics tools\n",
    "from statsmodels.graphics.mosaicplot import mosaic\n",
    "\n",
    "# ML\n",
    "import h2o\n",
    "from h2o.estimators import H2ORandomForestEstimator\n",
    "from h2o.estimators import H2OGradientBoostingEstimator"
   ]
  },
  {
   "cell_type": "markdown",
   "metadata": {
    "papermill": {
     "duration": 0.061921,
     "end_time": "2022-08-01T09:42:50.401682",
     "exception": false,
     "start_time": "2022-08-01T09:42:50.339761",
     "status": "completed"
    },
    "tags": []
   },
   "source": [
    "<a id='1'></a>\n",
    "# Import and first glance"
   ]
  },
  {
   "cell_type": "code",
   "execution_count": 2,
   "metadata": {
    "execution": {
     "iopub.execute_input": "2022-08-01T09:42:50.529714Z",
     "iopub.status.busy": "2022-08-01T09:42:50.528168Z",
     "iopub.status.idle": "2022-08-01T09:42:50.567360Z",
     "shell.execute_reply": "2022-08-01T09:42:50.567935Z",
     "shell.execute_reply.started": "2022-08-01T09:38:31.654947Z"
    },
    "papermill": {
     "duration": 0.105579,
     "end_time": "2022-08-01T09:42:50.568156",
     "exception": false,
     "start_time": "2022-08-01T09:42:50.462577",
     "status": "completed"
    },
    "tags": []
   },
   "outputs": [],
   "source": [
    "# load data\n",
    "df = pd.read_csv('../input/stroke-prediction-dataset/healthcare-dataset-stroke-data.csv')"
   ]
  },
  {
   "cell_type": "code",
   "execution_count": 3,
   "metadata": {
    "execution": {
     "iopub.execute_input": "2022-08-01T09:42:50.693964Z",
     "iopub.status.busy": "2022-08-01T09:42:50.693341Z",
     "iopub.status.idle": "2022-08-01T09:42:50.702163Z",
     "shell.execute_reply": "2022-08-01T09:42:50.702694Z",
     "shell.execute_reply.started": "2022-08-01T09:38:33.869639Z"
    },
    "papermill": {
     "duration": 0.072054,
     "end_time": "2022-08-01T09:42:50.702889",
     "exception": false,
     "start_time": "2022-08-01T09:42:50.630835",
     "status": "completed"
    },
    "tags": []
   },
   "outputs": [
    {
     "data": {
      "text/plain": [
       "(5110, 12)"
      ]
     },
     "execution_count": 3,
     "metadata": {},
     "output_type": "execute_result"
    }
   ],
   "source": [
    "# dimensions of data\n",
    "df.shape"
   ]
  },
  {
   "cell_type": "code",
   "execution_count": 4,
   "metadata": {
    "execution": {
     "iopub.execute_input": "2022-08-01T09:42:50.830963Z",
     "iopub.status.busy": "2022-08-01T09:42:50.830101Z",
     "iopub.status.idle": "2022-08-01T09:42:50.834643Z",
     "shell.execute_reply": "2022-08-01T09:42:50.835211Z",
     "shell.execute_reply.started": "2022-08-01T09:38:35.845645Z"
    },
    "papermill": {
     "duration": 0.071697,
     "end_time": "2022-08-01T09:42:50.835386",
     "exception": false,
     "start_time": "2022-08-01T09:42:50.763689",
     "status": "completed"
    },
    "tags": []
   },
   "outputs": [
    {
     "name": "stdout",
     "output_type": "stream",
     "text": [
      "['id', 'gender', 'age', 'hypertension', 'heart_disease', 'ever_married', 'work_type', 'Residence_type', 'avg_glucose_level', 'bmi', 'smoking_status', 'stroke']\n"
     ]
    }
   ],
   "source": [
    "# column names\n",
    "print(df.columns.tolist())"
   ]
  },
  {
   "cell_type": "markdown",
   "metadata": {
    "papermill": {
     "duration": 0.063885,
     "end_time": "2022-08-01T09:42:50.968942",
     "exception": false,
     "start_time": "2022-08-01T09:42:50.905057",
     "status": "completed"
    },
    "tags": []
   },
   "source": [
    "<a id='2'></a>\n",
    "# Data cleansing"
   ]
  },
  {
   "cell_type": "code",
   "execution_count": 5,
   "metadata": {
    "execution": {
     "iopub.execute_input": "2022-08-01T09:42:51.106195Z",
     "iopub.status.busy": "2022-08-01T09:42:51.105546Z",
     "iopub.status.idle": "2022-08-01T09:42:51.122449Z",
     "shell.execute_reply": "2022-08-01T09:42:51.121802Z",
     "shell.execute_reply.started": "2022-08-01T09:38:46.273145Z"
    },
    "papermill": {
     "duration": 0.093237,
     "end_time": "2022-08-01T09:42:51.122582",
     "exception": false,
     "start_time": "2022-08-01T09:42:51.029345",
     "status": "completed"
    },
    "tags": []
   },
   "outputs": [
    {
     "name": "stdout",
     "output_type": "stream",
     "text": [
      "<class 'pandas.core.frame.DataFrame'>\n",
      "RangeIndex: 5110 entries, 0 to 5109\n",
      "Data columns (total 12 columns):\n",
      " #   Column             Non-Null Count  Dtype  \n",
      "---  ------             --------------  -----  \n",
      " 0   id                 5110 non-null   int64  \n",
      " 1   gender             5110 non-null   object \n",
      " 2   age                5110 non-null   float64\n",
      " 3   hypertension       5110 non-null   int64  \n",
      " 4   heart_disease      5110 non-null   int64  \n",
      " 5   ever_married       5110 non-null   object \n",
      " 6   work_type          5110 non-null   object \n",
      " 7   Residence_type     5110 non-null   object \n",
      " 8   avg_glucose_level  5110 non-null   float64\n",
      " 9   bmi                4909 non-null   float64\n",
      " 10  smoking_status     5110 non-null   object \n",
      " 11  stroke             5110 non-null   int64  \n",
      "dtypes: float64(3), int64(4), object(5)\n",
      "memory usage: 479.2+ KB\n"
     ]
    }
   ],
   "source": [
    "# overview of data structure\n",
    "df.info()"
   ]
  },
  {
   "cell_type": "markdown",
   "metadata": {
    "papermill": {
     "duration": 0.063699,
     "end_time": "2022-08-01T09:42:51.248444",
     "exception": false,
     "start_time": "2022-08-01T09:42:51.184745",
     "status": "completed"
    },
    "tags": []
   },
   "source": [
    "We have missing values for BMI!"
   ]
  },
  {
   "cell_type": "code",
   "execution_count": 6,
   "metadata": {
    "execution": {
     "iopub.execute_input": "2022-08-01T09:42:51.374680Z",
     "iopub.status.busy": "2022-08-01T09:42:51.373836Z",
     "iopub.status.idle": "2022-08-01T09:42:51.378622Z",
     "shell.execute_reply": "2022-08-01T09:42:51.378095Z",
     "shell.execute_reply.started": "2022-08-01T09:38:49.133667Z"
    },
    "papermill": {
     "duration": 0.068293,
     "end_time": "2022-08-01T09:42:51.378746",
     "exception": false,
     "start_time": "2022-08-01T09:42:51.310453",
     "status": "completed"
    },
    "tags": []
   },
   "outputs": [],
   "source": [
    "# impute with -99\n",
    "df.bmi = df.bmi.fillna(-99)"
   ]
  },
  {
   "cell_type": "code",
   "execution_count": 7,
   "metadata": {
    "execution": {
     "iopub.execute_input": "2022-08-01T09:42:51.505812Z",
     "iopub.status.busy": "2022-08-01T09:42:51.504970Z",
     "iopub.status.idle": "2022-08-01T09:42:51.507971Z",
     "shell.execute_reply": "2022-08-01T09:42:51.507450Z",
     "shell.execute_reply.started": "2022-08-01T09:38:52.031144Z"
    },
    "papermill": {
     "duration": 0.06867,
     "end_time": "2022-08-01T09:42:51.508128",
     "exception": false,
     "start_time": "2022-08-01T09:42:51.439458",
     "status": "completed"
    },
    "tags": []
   },
   "outputs": [],
   "source": [
    "# rename columns\n",
    "df.rename(columns = {'Residence_type':'residence_type'}, inplace = True)"
   ]
  },
  {
   "cell_type": "code",
   "execution_count": 8,
   "metadata": {
    "execution": {
     "iopub.execute_input": "2022-08-01T09:42:51.635810Z",
     "iopub.status.busy": "2022-08-01T09:42:51.635206Z",
     "iopub.status.idle": "2022-08-01T09:42:51.640686Z",
     "shell.execute_reply": "2022-08-01T09:42:51.641192Z",
     "shell.execute_reply.started": "2022-08-01T09:38:53.611851Z"
    },
    "papermill": {
     "duration": 0.070935,
     "end_time": "2022-08-01T09:42:51.641370",
     "exception": false,
     "start_time": "2022-08-01T09:42:51.570435",
     "status": "completed"
    },
    "tags": []
   },
   "outputs": [],
   "source": [
    "# define target variable\n",
    "df['target'] = df.stroke\n",
    "df = df.drop(['stroke'], axis=1) # remove stroke column"
   ]
  },
  {
   "cell_type": "markdown",
   "metadata": {
    "papermill": {
     "duration": 0.06102,
     "end_time": "2022-08-01T09:42:51.763955",
     "exception": false,
     "start_time": "2022-08-01T09:42:51.702935",
     "status": "completed"
    },
    "tags": []
   },
   "source": [
    "<a id='3'></a>\n",
    "# Numerical Features"
   ]
  },
  {
   "cell_type": "code",
   "execution_count": 9,
   "metadata": {
    "execution": {
     "iopub.execute_input": "2022-08-01T09:42:51.890634Z",
     "iopub.status.busy": "2022-08-01T09:42:51.889617Z",
     "iopub.status.idle": "2022-08-01T09:42:51.892416Z",
     "shell.execute_reply": "2022-08-01T09:42:51.892964Z",
     "shell.execute_reply.started": "2022-08-01T09:38:56.086008Z"
    },
    "papermill": {
     "duration": 0.067763,
     "end_time": "2022-08-01T09:42:51.893144",
     "exception": false,
     "start_time": "2022-08-01T09:42:51.825381",
     "status": "completed"
    },
    "tags": []
   },
   "outputs": [],
   "source": [
    "# select numerical features\n",
    "features_num = ['age', 'avg_glucose_level','bmi']"
   ]
  },
  {
   "cell_type": "code",
   "execution_count": 10,
   "metadata": {
    "execution": {
     "iopub.execute_input": "2022-08-01T09:42:52.020957Z",
     "iopub.status.busy": "2022-08-01T09:42:52.020342Z",
     "iopub.status.idle": "2022-08-01T09:42:52.041609Z",
     "shell.execute_reply": "2022-08-01T09:42:52.042218Z",
     "shell.execute_reply.started": "2022-08-01T09:38:57.813891Z"
    },
    "papermill": {
     "duration": 0.086827,
     "end_time": "2022-08-01T09:42:52.042379",
     "exception": false,
     "start_time": "2022-08-01T09:42:51.955552",
     "status": "completed"
    },
    "tags": []
   },
   "outputs": [
    {
     "data": {
      "text/html": [
       "<div>\n",
       "<style scoped>\n",
       "    .dataframe tbody tr th:only-of-type {\n",
       "        vertical-align: middle;\n",
       "    }\n",
       "\n",
       "    .dataframe tbody tr th {\n",
       "        vertical-align: top;\n",
       "    }\n",
       "\n",
       "    .dataframe thead th {\n",
       "        text-align: right;\n",
       "    }\n",
       "</style>\n",
       "<table border=\"1\" class=\"dataframe\">\n",
       "  <thead>\n",
       "    <tr style=\"text-align: right;\">\n",
       "      <th></th>\n",
       "      <th>age</th>\n",
       "      <th>avg_glucose_level</th>\n",
       "      <th>bmi</th>\n",
       "    </tr>\n",
       "  </thead>\n",
       "  <tbody>\n",
       "    <tr>\n",
       "      <th>count</th>\n",
       "      <td>5110.000000</td>\n",
       "      <td>5110.000000</td>\n",
       "      <td>5110.000000</td>\n",
       "    </tr>\n",
       "    <tr>\n",
       "      <th>mean</th>\n",
       "      <td>43.226614</td>\n",
       "      <td>106.147677</td>\n",
       "      <td>23.862603</td>\n",
       "    </tr>\n",
       "    <tr>\n",
       "      <th>std</th>\n",
       "      <td>22.612647</td>\n",
       "      <td>45.283560</td>\n",
       "      <td>26.028009</td>\n",
       "    </tr>\n",
       "    <tr>\n",
       "      <th>min</th>\n",
       "      <td>0.080000</td>\n",
       "      <td>55.120000</td>\n",
       "      <td>-99.000000</td>\n",
       "    </tr>\n",
       "    <tr>\n",
       "      <th>10%</th>\n",
       "      <td>11.000000</td>\n",
       "      <td>65.789000</td>\n",
       "      <td>18.290000</td>\n",
       "    </tr>\n",
       "    <tr>\n",
       "      <th>25%</th>\n",
       "      <td>25.000000</td>\n",
       "      <td>77.245000</td>\n",
       "      <td>22.900000</td>\n",
       "    </tr>\n",
       "    <tr>\n",
       "      <th>50%</th>\n",
       "      <td>45.000000</td>\n",
       "      <td>91.885000</td>\n",
       "      <td>27.700000</td>\n",
       "    </tr>\n",
       "    <tr>\n",
       "      <th>75%</th>\n",
       "      <td>61.000000</td>\n",
       "      <td>114.090000</td>\n",
       "      <td>32.800000</td>\n",
       "    </tr>\n",
       "    <tr>\n",
       "      <th>90%</th>\n",
       "      <td>75.000000</td>\n",
       "      <td>192.181000</td>\n",
       "      <td>38.700000</td>\n",
       "    </tr>\n",
       "    <tr>\n",
       "      <th>max</th>\n",
       "      <td>82.000000</td>\n",
       "      <td>271.740000</td>\n",
       "      <td>97.600000</td>\n",
       "    </tr>\n",
       "  </tbody>\n",
       "</table>\n",
       "</div>"
      ],
      "text/plain": [
       "               age  avg_glucose_level          bmi\n",
       "count  5110.000000        5110.000000  5110.000000\n",
       "mean     43.226614         106.147677    23.862603\n",
       "std      22.612647          45.283560    26.028009\n",
       "min       0.080000          55.120000   -99.000000\n",
       "10%      11.000000          65.789000    18.290000\n",
       "25%      25.000000          77.245000    22.900000\n",
       "50%      45.000000          91.885000    27.700000\n",
       "75%      61.000000         114.090000    32.800000\n",
       "90%      75.000000         192.181000    38.700000\n",
       "max      82.000000         271.740000    97.600000"
      ]
     },
     "execution_count": 10,
     "metadata": {},
     "output_type": "execute_result"
    }
   ],
   "source": [
    "# basic stats\n",
    "df[features_num].describe(percentiles=[0.1,0.25,0.5,0.75,0.9])"
   ]
  },
  {
   "cell_type": "code",
   "execution_count": 11,
   "metadata": {
    "execution": {
     "iopub.execute_input": "2022-08-01T09:42:52.170559Z",
     "iopub.status.busy": "2022-08-01T09:42:52.169924Z",
     "iopub.status.idle": "2022-08-01T09:42:53.001115Z",
     "shell.execute_reply": "2022-08-01T09:42:53.000502Z",
     "shell.execute_reply.started": "2022-08-01T09:39:07.417997Z"
    },
    "papermill": {
     "duration": 0.896435,
     "end_time": "2022-08-01T09:42:53.001257",
     "exception": false,
     "start_time": "2022-08-01T09:42:52.104822",
     "status": "completed"
    },
    "tags": []
   },
   "outputs": [
    {
     "data": {
      "image/png": "[encoded data removed]",
      "text/plain": [
       "<Figure size 432x288 with 1 Axes>"
      ]
     },
     "metadata": {
      "needs_background": "light"
     },
     "output_type": "display_data"
    },
    {
     "data": {
      "image/png": "[encoded data removed]",
      "text/plain": [
       "<Figure size 432x288 with 1 Axes>"
      ]
     },
     "metadata": {
      "needs_background": "light"
     },
     "output_type": "display_data"
    },
    {
     "data": {
      "image/png": "[encoded data removed]",
      "text/plain": [
       "<Figure size 432x288 with 1 Axes>"
      ]
     },
     "metadata": {
      "needs_background": "light"
     },
     "output_type": "display_data"
    }
   ],
   "source": [
    "# plot distribution of numerical features\n",
    "for f in features_num:\n",
    "    df[f].plot(kind='hist', bins=30)\n",
    "    plt.title(f)\n",
    "    plt.grid()\n",
    "    plt.show()"
   ]
  },
  {
   "cell_type": "code",
   "execution_count": 12,
   "metadata": {
    "execution": {
     "iopub.execute_input": "2022-08-01T09:42:53.139240Z",
     "iopub.status.busy": "2022-08-01T09:42:53.138384Z",
     "iopub.status.idle": "2022-08-01T09:42:58.641810Z",
     "shell.execute_reply": "2022-08-01T09:42:58.642253Z",
     "shell.execute_reply.started": "2022-08-01T09:39:11.435380Z"
    },
    "papermill": {
     "duration": 5.576948,
     "end_time": "2022-08-01T09:42:58.642398",
     "exception": false,
     "start_time": "2022-08-01T09:42:53.065450",
     "status": "completed"
    },
    "tags": []
   },
   "outputs": [
    {
     "data": {
      "image/png": "[encoded data removed]",
      "text/plain": [
       "<Figure size 540x540 with 12 Axes>"
      ]
     },
     "metadata": {
      "needs_background": "light"
     },
     "output_type": "display_data"
    }
   ],
   "source": [
    "# pairwise scatter plot\n",
    "sns.pairplot(df[features_num], \n",
    "             kind='reg', \n",
    "             plot_kws={'line_kws':{'color':'magenta'}, 'scatter_kws': {'alpha': 0.1}})\n",
    "plt.show()"
   ]
  },
  {
   "cell_type": "code",
   "execution_count": 13,
   "metadata": {
    "execution": {
     "iopub.execute_input": "2022-08-01T09:42:58.739948Z",
     "iopub.status.busy": "2022-08-01T09:42:58.739427Z",
     "iopub.status.idle": "2022-08-01T09:42:58.974930Z",
     "shell.execute_reply": "2022-08-01T09:42:58.974430Z",
     "shell.execute_reply.started": "2022-08-01T09:39:17.976605Z"
    },
    "papermill": {
     "duration": 0.288494,
     "end_time": "2022-08-01T09:42:58.975122",
     "exception": false,
     "start_time": "2022-08-01T09:42:58.686628",
     "status": "completed"
    },
    "tags": []
   },
   "outputs": [
    {
     "data": {
      "image/png": "[encoded data removed]",
      "text/plain": [
       "<Figure size 432x360 with 2 Axes>"
      ]
     },
     "metadata": {
      "needs_background": "light"
     },
     "output_type": "display_data"
    }
   ],
   "source": [
    "# Spearman (Rank) correlation\n",
    "corr_spearman = df[features_num].corr(method='spearman')\n",
    "\n",
    "fig = plt.figure(figsize = (6,5))\n",
    "sns.heatmap(corr_spearman, annot=True, cmap=\"RdYlGn\", vmin=-1, vmax=+1)\n",
    "plt.title('Spearman Correlation')\n",
    "plt.show()"
   ]
  },
  {
   "cell_type": "markdown",
   "metadata": {
    "papermill": {
     "duration": 0.044882,
     "end_time": "2022-08-01T09:42:59.064834",
     "exception": false,
     "start_time": "2022-08-01T09:42:59.019952",
     "status": "completed"
    },
    "tags": []
   },
   "source": [
    "<a id='4'></a>\n",
    "# Categorical Features"
   ]
  },
  {
   "cell_type": "code",
   "execution_count": 14,
   "metadata": {
    "execution": {
     "iopub.execute_input": "2022-08-01T09:42:59.159843Z",
     "iopub.status.busy": "2022-08-01T09:42:59.159239Z",
     "iopub.status.idle": "2022-08-01T09:42:59.162598Z",
     "shell.execute_reply": "2022-08-01T09:42:59.162963Z",
     "shell.execute_reply.started": "2022-08-01T09:39:20.682167Z"
    },
    "papermill": {
     "duration": 0.053176,
     "end_time": "2022-08-01T09:42:59.163154",
     "exception": false,
     "start_time": "2022-08-01T09:42:59.109978",
     "status": "completed"
    },
    "tags": []
   },
   "outputs": [],
   "source": [
    "features_cat = ['gender','hypertension','heart_disease','ever_married',\n",
    "                'work_type','residence_type','smoking_status']"
   ]
  },
  {
   "cell_type": "code",
   "execution_count": 15,
   "metadata": {
    "execution": {
     "iopub.execute_input": "2022-08-01T09:42:59.450680Z",
     "iopub.status.busy": "2022-08-01T09:42:59.264835Z",
     "iopub.status.idle": "2022-08-01T09:43:00.374830Z",
     "shell.execute_reply": "2022-08-01T09:43:00.374150Z",
     "shell.execute_reply.started": "2022-08-01T09:39:22.404576Z"
    },
    "papermill": {
     "duration": 1.166586,
     "end_time": "2022-08-01T09:43:00.374978",
     "exception": false,
     "start_time": "2022-08-01T09:42:59.208392",
     "status": "completed"
    },
    "tags": []
   },
   "outputs": [
    {
     "data": {
      "image/png": "[encoded data removed]",
      "text/plain": [
       "<Figure size 432x288 with 1 Axes>"
      ]
     },
     "metadata": {
      "needs_background": "light"
     },
     "output_type": "display_data"
    },
    {
     "data": {
      "image/png": "[encoded data removed]",
      "text/plain": [
       "<Figure size 432x288 with 1 Axes>"
      ]
     },
     "metadata": {
      "needs_background": "light"
     },
     "output_type": "display_data"
    },
    {
     "data": {
      "image/png": "[encoded data removed]",
      "text/plain": [
       "<Figure size 432x288 with 1 Axes>"
      ]
     },
     "metadata": {
      "needs_background": "light"
     },
     "output_type": "display_data"
    },
    {
     "data": {
      "image/png": "[encoded data removed]",
      "text/plain": [
       "<Figure size 432x288 with 1 Axes>"
      ]
     },
     "metadata": {
      "needs_background": "light"
     },
     "output_type": "display_data"
    },
    {
     "data": {
      "image/png": "[encoded data removed]",
      "text/plain": [
       "<Figure size 432x288 with 1 Axes>"
      ]
     },
     "metadata": {
      "needs_background": "light"
     },
     "output_type": "display_data"
    },
    {
     "data": {
      "image/png": "[encoded data removed]",
      "text/plain": [
       "<Figure size 432x288 with 1 Axes>"
      ]
     },
     "metadata": {
      "needs_background": "light"
     },
     "output_type": "display_data"
    },
    {
     "data": {
      "image/png": "[encoded data removed]",
      "text/plain": [
       "<Figure size 432x288 with 1 Axes>"
      ]
     },
     "metadata": {
      "needs_background": "light"
     },
     "output_type": "display_data"
    }
   ],
   "source": [
    "# plot distribution of categorical features\n",
    "for f in features_cat:\n",
    "    df[f].value_counts().plot(kind='bar')\n",
    "    plt.title(f)\n",
    "    plt.grid()\n",
    "    plt.show()"
   ]
  },
  {
   "cell_type": "markdown",
   "metadata": {
    "papermill": {
     "duration": 0.077282,
     "end_time": "2022-08-01T09:43:00.526836",
     "exception": false,
     "start_time": "2022-08-01T09:43:00.449554",
     "status": "completed"
    },
    "tags": []
   },
   "source": [
    "<a id='5'></a>\n",
    "# Target"
   ]
  },
  {
   "cell_type": "code",
   "execution_count": 16,
   "metadata": {
    "execution": {
     "iopub.execute_input": "2022-08-01T09:43:00.682054Z",
     "iopub.status.busy": "2022-08-01T09:43:00.681284Z",
     "iopub.status.idle": "2022-08-01T09:43:00.693271Z",
     "shell.execute_reply": "2022-08-01T09:43:00.692609Z",
     "shell.execute_reply.started": "2022-08-01T09:39:41.539000Z"
    },
    "papermill": {
     "duration": 0.091423,
     "end_time": "2022-08-01T09:43:00.693403",
     "exception": false,
     "start_time": "2022-08-01T09:43:00.601980",
     "status": "completed"
    },
    "tags": []
   },
   "outputs": [
    {
     "name": "stdout",
     "output_type": "stream",
     "text": [
      "0    4861\n",
      "1     249\n",
      "Name: target, dtype: int64\n",
      "\n",
      "Percentage of strokes [1]: 4.87 %\n"
     ]
    }
   ],
   "source": [
    "# calc frequencies\n",
    "target_count = df.target.value_counts()\n",
    "print(target_count)\n",
    "print()\n",
    "print('Percentage of strokes [1]:', np.round(100*target_count[1] / target_count.sum(),2), '%')"
   ]
  },
  {
   "cell_type": "code",
   "execution_count": 17,
   "metadata": {
    "execution": {
     "iopub.execute_input": "2022-08-01T09:43:00.879746Z",
     "iopub.status.busy": "2022-08-01T09:43:00.870941Z",
     "iopub.status.idle": "2022-08-01T09:43:00.960389Z",
     "shell.execute_reply": "2022-08-01T09:43:00.960974Z",
     "shell.execute_reply.started": "2022-08-01T09:39:44.089797Z"
    },
    "papermill": {
     "duration": 0.190873,
     "end_time": "2022-08-01T09:43:00.961211",
     "exception": false,
     "start_time": "2022-08-01T09:43:00.770338",
     "status": "completed"
    },
    "tags": []
   },
   "outputs": [
    {
     "data": {
      "image/png": "[encoded data removed]",
      "text/plain": [
       "<Figure size 432x288 with 1 Axes>"
      ]
     },
     "metadata": {
      "needs_background": "light"
     },
     "output_type": "display_data"
    }
   ],
   "source": [
    "# plot target distribution\n",
    "target_count.plot(kind='bar')\n",
    "plt.title('Target = Stroke')\n",
    "plt.grid()\n",
    "plt.show()"
   ]
  },
  {
   "cell_type": "markdown",
   "metadata": {
    "papermill": {
     "duration": 0.076538,
     "end_time": "2022-08-01T09:43:01.114943",
     "exception": false,
     "start_time": "2022-08-01T09:43:01.038405",
     "status": "completed"
    },
    "tags": []
   },
   "source": [
    "### Target vs Numerical Features"
   ]
  },
  {
   "cell_type": "code",
   "execution_count": 18,
   "metadata": {
    "execution": {
     "iopub.execute_input": "2022-08-01T09:43:01.275967Z",
     "iopub.status.busy": "2022-08-01T09:43:01.275308Z",
     "iopub.status.idle": "2022-08-01T09:43:01.296534Z",
     "shell.execute_reply": "2022-08-01T09:43:01.295926Z",
     "shell.execute_reply.started": "2022-08-01T09:39:46.271726Z"
    },
    "papermill": {
     "duration": 0.10384,
     "end_time": "2022-08-01T09:43:01.296669",
     "exception": false,
     "start_time": "2022-08-01T09:43:01.192829",
     "status": "completed"
    },
    "tags": []
   },
   "outputs": [],
   "source": [
    "# add binned version of numerical features\n",
    "\n",
    "# quantile based:\n",
    "df['age_bin'] = pd.qcut(df['age'], q=10, precision=1)\n",
    "df['avg_glucose_level_bin'] = pd.qcut(df['avg_glucose_level'], q=10, precision=1)\n",
    "\n",
    "# explicitly defined bins:\n",
    "df['bmi_bin'] = pd.cut(df['bmi'], [-100,10,20,25,30,35,40,50,100])"
   ]
  },
  {
   "cell_type": "code",
   "execution_count": 19,
   "metadata": {
    "execution": {
     "iopub.execute_input": "2022-08-01T09:43:01.476865Z",
     "iopub.status.busy": "2022-08-01T09:43:01.470961Z",
     "iopub.status.idle": "2022-08-01T09:43:02.685526Z",
     "shell.execute_reply": "2022-08-01T09:43:02.684868Z",
     "shell.execute_reply.started": "2022-08-01T09:39:48.478278Z"
    },
    "papermill": {
     "duration": 1.311573,
     "end_time": "2022-08-01T09:43:02.685671",
     "exception": false,
     "start_time": "2022-08-01T09:43:01.374098",
     "status": "completed"
    },
    "tags": []
   },
   "outputs": [
    {
     "data": {
      "image/png": "[encoded data removed]",
      "text/plain": [
       "<Figure size 1152x504 with 3 Axes>"
      ]
     },
     "metadata": {
      "needs_background": "light"
     },
     "output_type": "display_data"
    },
    {
     "data": {
      "image/png": "[encoded data removed]",
      "text/plain": [
       "<Figure size 1152x504 with 3 Axes>"
      ]
     },
     "metadata": {
      "needs_background": "light"
     },
     "output_type": "display_data"
    },
    {
     "data": {
      "image/png": "[encoded data removed]",
      "text/plain": [
       "<Figure size 1152x504 with 3 Axes>"
      ]
     },
     "metadata": {
      "needs_background": "light"
     },
     "output_type": "display_data"
    }
   ],
   "source": [
    "# plot target vs features using mosaic plot\n",
    "plt_para_save = plt.rcParams['figure.figsize'] # remember plot settings\n",
    "\n",
    "for f in features_num:\n",
    "    f_bin = f+'_bin'\n",
    "    plt.rcParams[\"figure.figsize\"] = (16,7) # increase plot size for mosaics\n",
    "    mosaic(df, [f_bin, 'target'], title='Target vs ' + f + ' [binned]')\n",
    "    plt.show()\n",
    "    \n",
    "# reset plot size again\n",
    "plt.rcParams['figure.figsize'] = plt_para_save"
   ]
  },
  {
   "cell_type": "markdown",
   "metadata": {
    "papermill": {
     "duration": 0.08128,
     "end_time": "2022-08-01T09:43:02.850192",
     "exception": false,
     "start_time": "2022-08-01T09:43:02.768912",
     "status": "completed"
    },
    "tags": []
   },
   "source": [
    "#### \"Naive\" Interpretations based on those univariate plots:\n",
    "* Risk increases with age and glucose level (diabetes).\n",
    "* High BMI levels are also indicating higher risk.\n",
    "* A missing value for BMI (the leftmost column) seems to indicate a massively increased risk!?"
   ]
  },
  {
   "cell_type": "code",
   "execution_count": 20,
   "metadata": {
    "execution": {
     "iopub.execute_input": "2022-08-01T09:43:03.035485Z",
     "iopub.status.busy": "2022-08-01T09:43:03.031632Z",
     "iopub.status.idle": "2022-08-01T09:43:03.047261Z",
     "shell.execute_reply": "2022-08-01T09:43:03.046667Z",
     "shell.execute_reply.started": "2022-08-01T09:39:53.643362Z"
    },
    "papermill": {
     "duration": 0.116069,
     "end_time": "2022-08-01T09:43:03.047398",
     "exception": false,
     "start_time": "2022-08-01T09:43:02.931329",
     "status": "completed"
    },
    "tags": []
   },
   "outputs": [
    {
     "data": {
      "text/html": [
       "<div>\n",
       "<style scoped>\n",
       "    .dataframe tbody tr th:only-of-type {\n",
       "        vertical-align: middle;\n",
       "    }\n",
       "\n",
       "    .dataframe tbody tr th {\n",
       "        vertical-align: top;\n",
       "    }\n",
       "\n",
       "    .dataframe thead th {\n",
       "        text-align: right;\n",
       "    }\n",
       "</style>\n",
       "<table border=\"1\" class=\"dataframe\">\n",
       "  <thead>\n",
       "    <tr style=\"text-align: right;\">\n",
       "      <th>target</th>\n",
       "      <th>0</th>\n",
       "      <th>1</th>\n",
       "    </tr>\n",
       "    <tr>\n",
       "      <th>bmi_bin</th>\n",
       "      <th></th>\n",
       "      <th></th>\n",
       "    </tr>\n",
       "  </thead>\n",
       "  <tbody>\n",
       "    <tr>\n",
       "      <th>(-100, 10]</th>\n",
       "      <td>161</td>\n",
       "      <td>40</td>\n",
       "    </tr>\n",
       "    <tr>\n",
       "      <th>(10, 20]</th>\n",
       "      <td>534</td>\n",
       "      <td>3</td>\n",
       "    </tr>\n",
       "    <tr>\n",
       "      <th>(20, 25]</th>\n",
       "      <td>1035</td>\n",
       "      <td>35</td>\n",
       "    </tr>\n",
       "    <tr>\n",
       "      <th>(25, 30]</th>\n",
       "      <td>1334</td>\n",
       "      <td>75</td>\n",
       "    </tr>\n",
       "    <tr>\n",
       "      <th>(30, 35]</th>\n",
       "      <td>931</td>\n",
       "      <td>54</td>\n",
       "    </tr>\n",
       "    <tr>\n",
       "      <th>(35, 40]</th>\n",
       "      <td>476</td>\n",
       "      <td>24</td>\n",
       "    </tr>\n",
       "    <tr>\n",
       "      <th>(40, 50]</th>\n",
       "      <td>312</td>\n",
       "      <td>17</td>\n",
       "    </tr>\n",
       "    <tr>\n",
       "      <th>(50, 100]</th>\n",
       "      <td>78</td>\n",
       "      <td>1</td>\n",
       "    </tr>\n",
       "  </tbody>\n",
       "</table>\n",
       "</div>"
      ],
      "text/plain": [
       "target         0   1\n",
       "bmi_bin             \n",
       "(-100, 10]   161  40\n",
       "(10, 20]     534   3\n",
       "(20, 25]    1035  35\n",
       "(25, 30]    1334  75\n",
       "(30, 35]     931  54\n",
       "(35, 40]     476  24\n",
       "(40, 50]     312  17\n",
       "(50, 100]     78   1"
      ]
     },
     "execution_count": 20,
     "metadata": {},
     "output_type": "execute_result"
    }
   ],
   "source": [
    "# BMI - check cross table\n",
    "ctab = pd.crosstab(df.bmi_bin, df.target)\n",
    "ctab"
   ]
  },
  {
   "cell_type": "code",
   "execution_count": 21,
   "metadata": {
    "execution": {
     "iopub.execute_input": "2022-08-01T09:43:03.223691Z",
     "iopub.status.busy": "2022-08-01T09:43:03.222958Z",
     "iopub.status.idle": "2022-08-01T09:43:03.227405Z",
     "shell.execute_reply": "2022-08-01T09:43:03.227907Z",
     "shell.execute_reply.started": "2022-08-01T09:39:56.086253Z"
    },
    "papermill": {
     "duration": 0.099917,
     "end_time": "2022-08-01T09:43:03.228150",
     "exception": false,
     "start_time": "2022-08-01T09:43:03.128233",
     "status": "completed"
    },
    "tags": []
   },
   "outputs": [
    {
     "data": {
      "text/html": [
       "<div>\n",
       "<style scoped>\n",
       "    .dataframe tbody tr th:only-of-type {\n",
       "        vertical-align: middle;\n",
       "    }\n",
       "\n",
       "    .dataframe tbody tr th {\n",
       "        vertical-align: top;\n",
       "    }\n",
       "\n",
       "    .dataframe thead th {\n",
       "        text-align: right;\n",
       "    }\n",
       "</style>\n",
       "<table border=\"1\" class=\"dataframe\">\n",
       "  <thead>\n",
       "    <tr style=\"text-align: right;\">\n",
       "      <th>target</th>\n",
       "      <th>0</th>\n",
       "      <th>1</th>\n",
       "    </tr>\n",
       "    <tr>\n",
       "      <th>bmi_bin</th>\n",
       "      <th></th>\n",
       "      <th></th>\n",
       "    </tr>\n",
       "  </thead>\n",
       "  <tbody>\n",
       "    <tr>\n",
       "      <th>(-100, 10]</th>\n",
       "      <td>0.800995</td>\n",
       "      <td>0.199005</td>\n",
       "    </tr>\n",
       "    <tr>\n",
       "      <th>(10, 20]</th>\n",
       "      <td>0.994413</td>\n",
       "      <td>0.005587</td>\n",
       "    </tr>\n",
       "    <tr>\n",
       "      <th>(20, 25]</th>\n",
       "      <td>0.967290</td>\n",
       "      <td>0.032710</td>\n",
       "    </tr>\n",
       "    <tr>\n",
       "      <th>(25, 30]</th>\n",
       "      <td>0.946771</td>\n",
       "      <td>0.053229</td>\n",
       "    </tr>\n",
       "    <tr>\n",
       "      <th>(30, 35]</th>\n",
       "      <td>0.945178</td>\n",
       "      <td>0.054822</td>\n",
       "    </tr>\n",
       "    <tr>\n",
       "      <th>(35, 40]</th>\n",
       "      <td>0.952000</td>\n",
       "      <td>0.048000</td>\n",
       "    </tr>\n",
       "    <tr>\n",
       "      <th>(40, 50]</th>\n",
       "      <td>0.948328</td>\n",
       "      <td>0.051672</td>\n",
       "    </tr>\n",
       "    <tr>\n",
       "      <th>(50, 100]</th>\n",
       "      <td>0.987342</td>\n",
       "      <td>0.012658</td>\n",
       "    </tr>\n",
       "  </tbody>\n",
       "</table>\n",
       "</div>"
      ],
      "text/plain": [
       "target             0         1\n",
       "bmi_bin                       \n",
       "(-100, 10]  0.800995  0.199005\n",
       "(10, 20]    0.994413  0.005587\n",
       "(20, 25]    0.967290  0.032710\n",
       "(25, 30]    0.946771  0.053229\n",
       "(30, 35]    0.945178  0.054822\n",
       "(35, 40]    0.952000  0.048000\n",
       "(40, 50]    0.948328  0.051672\n",
       "(50, 100]   0.987342  0.012658"
      ]
     },
     "execution_count": 21,
     "metadata": {},
     "output_type": "execute_result"
    }
   ],
   "source": [
    "# normalize each row to get row-wise target percentages\n",
    "(ctab.transpose() / ctab.sum(axis=1)).transpose()"
   ]
  },
  {
   "cell_type": "markdown",
   "metadata": {
    "papermill": {
     "duration": 0.082504,
     "end_time": "2022-08-01T09:43:03.393952",
     "exception": false,
     "start_time": "2022-08-01T09:43:03.311448",
     "status": "completed"
    },
    "tags": []
   },
   "source": [
    "#### Almost 20% of the missing BMIs had a stroke! This is way higher than for the other bins."
   ]
  },
  {
   "cell_type": "markdown",
   "metadata": {
    "papermill": {
     "duration": 0.088714,
     "end_time": "2022-08-01T09:43:03.564230",
     "exception": false,
     "start_time": "2022-08-01T09:43:03.475516",
     "status": "completed"
    },
    "tags": []
   },
   "source": [
    "### Target vs Categorical Features"
   ]
  },
  {
   "cell_type": "code",
   "execution_count": 22,
   "metadata": {
    "execution": {
     "iopub.execute_input": "2022-08-01T09:43:03.757815Z",
     "iopub.status.busy": "2022-08-01T09:43:03.756966Z",
     "iopub.status.idle": "2022-08-01T09:43:05.168627Z",
     "shell.execute_reply": "2022-08-01T09:43:05.168046Z",
     "shell.execute_reply.started": "2022-08-01T09:39:59.589320Z"
    },
    "papermill": {
     "duration": 1.518274,
     "end_time": "2022-08-01T09:43:05.168770",
     "exception": false,
     "start_time": "2022-08-01T09:43:03.650496",
     "status": "completed"
    },
    "tags": []
   },
   "outputs": [
    {
     "data": {
      "image/png": "[encoded data removed]",
      "text/plain": [
       "<Figure size 576x504 with 3 Axes>"
      ]
     },
     "metadata": {
      "needs_background": "light"
     },
     "output_type": "display_data"
    },
    {
     "data": {
      "image/png": "[encoded data removed]",
      "text/plain": [
       "<Figure size 576x504 with 3 Axes>"
      ]
     },
     "metadata": {
      "needs_background": "light"
     },
     "output_type": "display_data"
    },
    {
     "data": {
      "image/png": "[encoded data removed]",
      "text/plain": [
       "<Figure size 576x504 with 3 Axes>"
      ]
     },
     "metadata": {
      "needs_background": "light"
     },
     "output_type": "display_data"
    },
    {
     "data": {
      "image/png": "[encoded data removed]",
      "text/plain": [
       "<Figure size 576x504 with 3 Axes>"
      ]
     },
     "metadata": {
      "needs_background": "light"
     },
     "output_type": "display_data"
    },
    {
     "data": {
      "image/png": "[encoded data removed]",
      "text/plain": [
       "<Figure size 576x504 with 3 Axes>"
      ]
     },
     "metadata": {
      "needs_background": "light"
     },
     "output_type": "display_data"
    },
    {
     "data": {
      "image/png": "[encoded data removed]",
      "text/plain": [
       "<Figure size 576x504 with 3 Axes>"
      ]
     },
     "metadata": {
      "needs_background": "light"
     },
     "output_type": "display_data"
    },
    {
     "data": {
      "image/png": "[encoded data removed]",
      "text/plain": [
       "<Figure size 576x504 with 3 Axes>"
      ]
     },
     "metadata": {
      "needs_background": "light"
     },
     "output_type": "display_data"
    }
   ],
   "source": [
    "# plot target vs features using mosaic plot\n",
    "plt_para_save = plt.rcParams['figure.figsize'] # remember plot settings\n",
    "\n",
    "for f in features_cat:\n",
    "    plt.rcParams[\"figure.figsize\"] = (8,7) # increase plot size for mosaics\n",
    "    mosaic(df, [f, 'target'], title='Target vs ' + f)\n",
    "    plt.show()\n",
    "    \n",
    "# reset plot size again\n",
    "plt.rcParams['figure.figsize'] = plt_para_save"
   ]
  },
  {
   "cell_type": "markdown",
   "metadata": {
    "papermill": {
     "duration": 0.086921,
     "end_time": "2022-08-01T09:43:05.343134",
     "exception": false,
     "start_time": "2022-08-01T09:43:05.256213",
     "status": "completed"
    },
    "tags": []
   },
   "source": [
    "#### \"Naive\" Interpretations based on those univariate plots:\n",
    "* Influence of gender seems surprisingly low\n",
    "* Hypertension and heart disease massively increase risk of stroke\n",
    "* \"Ever married\" too!?\n",
    "* Work type: Higher risk for self-employed (more stress?)\n",
    "* Residence type: Slightly higher risk for urban vs rural\n",
    "* Smoking: Highest risk for *former* smokers. Not much difference between \"smokes\" and \"never smoked\"?"
   ]
  },
  {
   "cell_type": "code",
   "execution_count": 23,
   "metadata": {
    "execution": {
     "iopub.execute_input": "2022-08-01T09:43:05.524237Z",
     "iopub.status.busy": "2022-08-01T09:43:05.523552Z",
     "iopub.status.idle": "2022-08-01T09:43:05.541282Z",
     "shell.execute_reply": "2022-08-01T09:43:05.540574Z",
     "shell.execute_reply.started": "2022-08-01T09:40:04.887806Z"
    },
    "papermill": {
     "duration": 0.111492,
     "end_time": "2022-08-01T09:43:05.541431",
     "exception": false,
     "start_time": "2022-08-01T09:43:05.429939",
     "status": "completed"
    },
    "tags": []
   },
   "outputs": [
    {
     "data": {
      "text/html": [
       "<div>\n",
       "<style scoped>\n",
       "    .dataframe tbody tr th:only-of-type {\n",
       "        vertical-align: middle;\n",
       "    }\n",
       "\n",
       "    .dataframe tbody tr th {\n",
       "        vertical-align: top;\n",
       "    }\n",
       "\n",
       "    .dataframe thead th {\n",
       "        text-align: right;\n",
       "    }\n",
       "</style>\n",
       "<table border=\"1\" class=\"dataframe\">\n",
       "  <thead>\n",
       "    <tr style=\"text-align: right;\">\n",
       "      <th>target</th>\n",
       "      <th>0</th>\n",
       "      <th>1</th>\n",
       "    </tr>\n",
       "    <tr>\n",
       "      <th>ever_married</th>\n",
       "      <th></th>\n",
       "      <th></th>\n",
       "    </tr>\n",
       "  </thead>\n",
       "  <tbody>\n",
       "    <tr>\n",
       "      <th>No</th>\n",
       "      <td>1728</td>\n",
       "      <td>29</td>\n",
       "    </tr>\n",
       "    <tr>\n",
       "      <th>Yes</th>\n",
       "      <td>3133</td>\n",
       "      <td>220</td>\n",
       "    </tr>\n",
       "  </tbody>\n",
       "</table>\n",
       "</div>"
      ],
      "text/plain": [
       "target           0    1\n",
       "ever_married           \n",
       "No            1728   29\n",
       "Yes           3133  220"
      ]
     },
     "execution_count": 23,
     "metadata": {},
     "output_type": "execute_result"
    }
   ],
   "source": [
    "# \"ever married\" - check cross table\n",
    "ctab = pd.crosstab(df.ever_married, df.target)\n",
    "ctab"
   ]
  },
  {
   "cell_type": "code",
   "execution_count": 24,
   "metadata": {
    "execution": {
     "iopub.execute_input": "2022-08-01T09:43:05.726789Z",
     "iopub.status.busy": "2022-08-01T09:43:05.725785Z",
     "iopub.status.idle": "2022-08-01T09:43:05.729934Z",
     "shell.execute_reply": "2022-08-01T09:43:05.729396Z",
     "shell.execute_reply.started": "2022-08-01T09:40:07.861320Z"
    },
    "papermill": {
     "duration": 0.101264,
     "end_time": "2022-08-01T09:43:05.730090",
     "exception": false,
     "start_time": "2022-08-01T09:43:05.628826",
     "status": "completed"
    },
    "tags": []
   },
   "outputs": [
    {
     "data": {
      "text/html": [
       "<div>\n",
       "<style scoped>\n",
       "    .dataframe tbody tr th:only-of-type {\n",
       "        vertical-align: middle;\n",
       "    }\n",
       "\n",
       "    .dataframe tbody tr th {\n",
       "        vertical-align: top;\n",
       "    }\n",
       "\n",
       "    .dataframe thead th {\n",
       "        text-align: right;\n",
       "    }\n",
       "</style>\n",
       "<table border=\"1\" class=\"dataframe\">\n",
       "  <thead>\n",
       "    <tr style=\"text-align: right;\">\n",
       "      <th>target</th>\n",
       "      <th>0</th>\n",
       "      <th>1</th>\n",
       "    </tr>\n",
       "    <tr>\n",
       "      <th>ever_married</th>\n",
       "      <th></th>\n",
       "      <th></th>\n",
       "    </tr>\n",
       "  </thead>\n",
       "  <tbody>\n",
       "    <tr>\n",
       "      <th>No</th>\n",
       "      <td>0.983495</td>\n",
       "      <td>0.016505</td>\n",
       "    </tr>\n",
       "    <tr>\n",
       "      <th>Yes</th>\n",
       "      <td>0.934387</td>\n",
       "      <td>0.065613</td>\n",
       "    </tr>\n",
       "  </tbody>\n",
       "</table>\n",
       "</div>"
      ],
      "text/plain": [
       "target               0         1\n",
       "ever_married                    \n",
       "No            0.983495  0.016505\n",
       "Yes           0.934387  0.065613"
      ]
     },
     "execution_count": 24,
     "metadata": {},
     "output_type": "execute_result"
    }
   ],
   "source": [
    "# normalize each row\n",
    "(ctab.transpose() / ctab.sum(axis=1)).transpose()"
   ]
  },
  {
   "cell_type": "markdown",
   "metadata": {
    "papermill": {
     "duration": 0.088454,
     "end_time": "2022-08-01T09:43:05.908310",
     "exception": false,
     "start_time": "2022-08-01T09:43:05.819856",
     "status": "completed"
    },
    "tags": []
   },
   "source": [
    "<a id='6'></a>\n",
    "# Build Model"
   ]
  },
  {
   "cell_type": "code",
   "execution_count": 25,
   "metadata": {
    "execution": {
     "iopub.execute_input": "2022-08-01T09:43:06.090703Z",
     "iopub.status.busy": "2022-08-01T09:43:06.090100Z",
     "iopub.status.idle": "2022-08-01T09:43:06.097441Z",
     "shell.execute_reply": "2022-08-01T09:43:06.097960Z",
     "shell.execute_reply.started": "2022-08-01T09:40:10.625357Z"
    },
    "papermill": {
     "duration": 0.100925,
     "end_time": "2022-08-01T09:43:06.098160",
     "exception": false,
     "start_time": "2022-08-01T09:43:05.997235",
     "status": "completed"
    },
    "tags": []
   },
   "outputs": [
    {
     "name": "stdout",
     "output_type": "stream",
     "text": [
      "Number of predictors:  10\n",
      "['age', 'avg_glucose_level', 'bmi', 'gender', 'hypertension', 'heart_disease', 'ever_married', 'work_type', 'residence_type', 'smoking_status']\n"
     ]
    }
   ],
   "source": [
    "# select predictors\n",
    "predictors = features_num + features_cat\n",
    "print('Number of predictors: ', len(predictors))\n",
    "print(predictors)"
   ]
  },
  {
   "cell_type": "code",
   "execution_count": 26,
   "metadata": {
    "_kg_hide-output": true,
    "execution": {
     "iopub.execute_input": "2022-08-01T09:43:06.285103Z",
     "iopub.status.busy": "2022-08-01T09:43:06.284484Z",
     "iopub.status.idle": "2022-08-01T09:43:13.090910Z",
     "shell.execute_reply": "2022-08-01T09:43:13.091724Z",
     "shell.execute_reply.started": "2022-08-01T09:40:13.629321Z"
    },
    "papermill": {
     "duration": 6.902068,
     "end_time": "2022-08-01T09:43:13.091914",
     "exception": false,
     "start_time": "2022-08-01T09:43:06.189846",
     "status": "completed"
    },
    "tags": []
   },
   "outputs": [
    {
     "name": "stdout",
     "output_type": "stream",
     "text": [
      "Checking whether there is an H2O instance running at http://localhost:54321 ..... not found.\n",
      "Attempting to start a local H2O server...\n",
      "  Java Version: openjdk version \"11.0.9.1\" 2020-11-04; OpenJDK Runtime Environment (build 11.0.9.1+1-Ubuntu-0ubuntu1.18.04); OpenJDK 64-Bit Server VM (build 11.0.9.1+1-Ubuntu-0ubuntu1.18.04, mixed mode, sharing)\n",
      "  Starting server from /opt/conda/lib/python3.7/site-packages/h2o/backend/bin/h2o.jar\n",
      "  Ice root: /tmp/tmpxvojqpox\n",
      "  JVM stdout: /tmp/tmpxvojqpox/h2o_unknownUser_started_from_python.out\n",
      "  JVM stderr: /tmp/tmpxvojqpox/h2o_unknownUser_started_from_python.err\n",
      "  Server is running at http://127.0.0.1:54321\n",
      "Connecting to H2O server at http://127.0.0.1:54321 ... successful.\n",
      "Warning: Your H2O cluster version is too old (1 year, 7 months and 7 days)! Please download and install the latest version from http://h2o.ai/download/\n"
     ]
    },
    {
     "data": {
      "text/html": [
       "<div style=\"overflow:auto\"><table style=\"width:50%\"><tr><td>H2O_cluster_uptime:</td>\n",
       "<td>02 secs</td></tr>\n",
       "<tr><td>H2O_cluster_timezone:</td>\n",
       "<td>Etc/UTC</td></tr>\n",
       "<tr><td>H2O_data_parsing_timezone:</td>\n",
       "<td>UTC</td></tr>\n",
       "<tr><td>H2O_cluster_version:</td>\n",
       "<td>3.32.0.3</td></tr>\n",
       "<tr><td>H2O_cluster_version_age:</td>\n",
       "<td>1 year, 7 months and 7 days !!!</td></tr>\n",
       "<tr><td>H2O_cluster_name:</td>\n",
       "<td>H2O_from_python_unknownUser_osb1y1</td></tr>\n",
       "<tr><td>H2O_cluster_total_nodes:</td>\n",
       "<td>1</td></tr>\n",
       "<tr><td>H2O_cluster_free_memory:</td>\n",
       "<td>12 Gb</td></tr>\n",
       "<tr><td>H2O_cluster_total_cores:</td>\n",
       "<td>4</td></tr>\n",
       "<tr><td>H2O_cluster_allowed_cores:</td>\n",
       "<td>4</td></tr>\n",
       "<tr><td>H2O_cluster_status:</td>\n",
       "<td>accepting new members, healthy</td></tr>\n",
       "<tr><td>H2O_connection_url:</td>\n",
       "<td>http://127.0.0.1:54321</td></tr>\n",
       "<tr><td>H2O_connection_proxy:</td>\n",
       "<td>{\"http\": null, \"https\": null}</td></tr>\n",
       "<tr><td>H2O_internal_security:</td>\n",
       "<td>False</td></tr>\n",
       "<tr><td>H2O_API_Extensions:</td>\n",
       "<td>Amazon S3, XGBoost, Algos, AutoML, Core V3, TargetEncoder, Core V4</td></tr>\n",
       "<tr><td>Python_version:</td>\n",
       "<td>3.7.9 final</td></tr></table></div>"
      ],
      "text/plain": [
       "--------------------------  ------------------------------------------------------------------\n",
       "H2O_cluster_uptime:         02 secs\n",
       "H2O_cluster_timezone:       Etc/UTC\n",
       "H2O_data_parsing_timezone:  UTC\n",
       "H2O_cluster_version:        3.32.0.3\n",
       "H2O_cluster_version_age:    1 year, 7 months and 7 days !!!\n",
       "H2O_cluster_name:           H2O_from_python_unknownUser_osb1y1\n",
       "H2O_cluster_total_nodes:    1\n",
       "H2O_cluster_free_memory:    12 Gb\n",
       "H2O_cluster_total_cores:    4\n",
       "H2O_cluster_allowed_cores:  4\n",
       "H2O_cluster_status:         accepting new members, healthy\n",
       "H2O_connection_url:         http://127.0.0.1:54321\n",
       "H2O_connection_proxy:       {\"http\": null, \"https\": null}\n",
       "H2O_internal_security:      False\n",
       "H2O_API_Extensions:         Amazon S3, XGBoost, Algos, AutoML, Core V3, TargetEncoder, Core V4\n",
       "Python_version:             3.7.9 final\n",
       "--------------------------  ------------------------------------------------------------------"
      ]
     },
     "metadata": {},
     "output_type": "display_data"
    }
   ],
   "source": [
    "# start H2O\n",
    "h2o.init(max_mem_size='12G', nthreads=4) # Use maximum of 12 GB RAM and 4 cores"
   ]
  },
  {
   "cell_type": "code",
   "execution_count": 27,
   "metadata": {
    "execution": {
     "iopub.execute_input": "2022-08-01T09:43:13.256746Z",
     "iopub.status.busy": "2022-08-01T09:43:13.256115Z",
     "iopub.status.idle": "2022-08-01T09:43:15.384543Z",
     "shell.execute_reply": "2022-08-01T09:43:15.385067Z",
     "shell.execute_reply.started": "2022-08-01T09:40:34.849462Z"
    },
    "papermill": {
     "duration": 2.205469,
     "end_time": "2022-08-01T09:43:15.385260",
     "exception": false,
     "start_time": "2022-08-01T09:43:13.179791",
     "status": "completed"
    },
    "tags": []
   },
   "outputs": [
    {
     "name": "stdout",
     "output_type": "stream",
     "text": [
      "Parse progress: |█████████████████████████████████████████████████████████| 100%\n"
     ]
    }
   ],
   "source": [
    "# upload data frame in H2O environment\n",
    "df_hex = h2o.H2OFrame(df)\n",
    "\n",
    "# convert target to categorical\n",
    "df_hex['target'] = df_hex['target'].asfactor()\n",
    "\n",
    "# train / test split (70/30)\n",
    "train_hex, test_hex = df_hex.split_frame(ratios=[0.7], seed=999)\n",
    "\n",
    "# pandas versions of train/test\n",
    "df_train = train_hex.as_data_frame()\n",
    "df_test = test_hex.as_data_frame()"
   ]
  },
  {
   "cell_type": "code",
   "execution_count": 28,
   "metadata": {
    "execution": {
     "iopub.execute_input": "2022-08-01T09:43:15.554686Z",
     "iopub.status.busy": "2022-08-01T09:43:15.554165Z",
     "iopub.status.idle": "2022-08-01T09:43:15.610346Z",
     "shell.execute_reply": "2022-08-01T09:43:15.610914Z",
     "shell.execute_reply.started": "2022-08-01T09:40:39.124509Z"
    },
    "papermill": {
     "duration": 0.131954,
     "end_time": "2022-08-01T09:43:15.611134",
     "exception": false,
     "start_time": "2022-08-01T09:43:15.479180",
     "status": "completed"
    },
    "tags": []
   },
   "outputs": [],
   "source": [
    "# export for potential external processing\n",
    "df_train.to_csv('df_train.csv')\n",
    "df_test.to_csv('df_test.csv')"
   ]
  },
  {
   "cell_type": "code",
   "execution_count": 29,
   "metadata": {
    "execution": {
     "iopub.execute_input": "2022-08-01T09:43:15.761626Z",
     "iopub.status.busy": "2022-08-01T09:43:15.761121Z",
     "iopub.status.idle": "2022-08-01T09:43:15.763680Z",
     "shell.execute_reply": "2022-08-01T09:43:15.764138Z",
     "shell.execute_reply.started": "2022-08-01T09:40:41.319773Z"
    },
    "papermill": {
     "duration": 0.078464,
     "end_time": "2022-08-01T09:43:15.764285",
     "exception": false,
     "start_time": "2022-08-01T09:43:15.685821",
     "status": "completed"
    },
    "tags": []
   },
   "outputs": [],
   "source": [
    "# define Gradient Boosting model\n",
    "fit_1 = H2OGradientBoostingEstimator(ntrees = 100,\n",
    "                                     max_depth=4,\n",
    "                                     min_rows=10,\n",
    "                                     learn_rate=0.01, # default: 0.1\n",
    "                                     sample_rate=1,\n",
    "                                     col_sample_rate=0.7,\n",
    "                                     nfolds=5,\n",
    "                                     score_each_iteration=True,\n",
    "                                     stopping_metric='auto',\n",
    "                                     stopping_rounds=10,\n",
    "                                     seed=999)"
   ]
  },
  {
   "cell_type": "code",
   "execution_count": 30,
   "metadata": {
    "execution": {
     "iopub.execute_input": "2022-08-01T09:43:15.907557Z",
     "iopub.status.busy": "2022-08-01T09:43:15.907062Z",
     "iopub.status.idle": "2022-08-01T09:43:31.153885Z",
     "shell.execute_reply": "2022-08-01T09:43:31.154570Z",
     "shell.execute_reply.started": "2022-08-01T09:40:43.892443Z"
    },
    "papermill": {
     "duration": 15.319896,
     "end_time": "2022-08-01T09:43:31.154777",
     "exception": false,
     "start_time": "2022-08-01T09:43:15.834881",
     "status": "completed"
    },
    "tags": []
   },
   "outputs": [
    {
     "name": "stdout",
     "output_type": "stream",
     "text": [
      "gbm Model Build progress: |███████████████████████████████████████████████| 100%\n",
      "Elapsed time [s]:  15.24\n"
     ]
    }
   ],
   "source": [
    "# train model\n",
    "t1 = time.time()\n",
    "fit_1.train(x=predictors,\n",
    "            y='target',\n",
    "            training_frame=train_hex)\n",
    "t2 = time.time()\n",
    "print('Elapsed time [s]: ', np.round(t2-t1,2))"
   ]
  },
  {
   "cell_type": "code",
   "execution_count": 31,
   "metadata": {
    "execution": {
     "iopub.execute_input": "2022-08-01T09:43:31.460205Z",
     "iopub.status.busy": "2022-08-01T09:43:31.459370Z",
     "iopub.status.idle": "2022-08-01T09:43:31.770257Z",
     "shell.execute_reply": "2022-08-01T09:43:31.769593Z",
     "shell.execute_reply.started": "2022-08-01T09:41:11.474367Z"
    },
    "papermill": {
     "duration": 0.448852,
     "end_time": "2022-08-01T09:43:31.770392",
     "exception": false,
     "start_time": "2022-08-01T09:43:31.321540",
     "status": "completed"
    },
    "tags": []
   },
   "outputs": [
    {
     "data": {
      "image/png": "[encoded data removed]",
      "text/plain": [
       "<Figure size 504x288 with 1 Axes>"
      ]
     },
     "metadata": {
      "needs_background": "light"
     },
     "output_type": "display_data"
    }
   ],
   "source": [
    "# show training scoring history\n",
    "plt.rcParams['figure.figsize']=(7,4)\n",
    "fit_1.plot()"
   ]
  },
  {
   "cell_type": "code",
   "execution_count": 32,
   "metadata": {
    "execution": {
     "iopub.execute_input": "2022-08-01T09:43:32.027644Z",
     "iopub.status.busy": "2022-08-01T09:43:32.027020Z",
     "iopub.status.idle": "2022-08-01T09:43:32.059702Z",
     "shell.execute_reply": "2022-08-01T09:43:32.060279Z",
     "shell.execute_reply.started": "2022-08-01T09:41:14.626666Z"
    },
    "papermill": {
     "duration": 0.164423,
     "end_time": "2022-08-01T09:43:32.060464",
     "exception": false,
     "start_time": "2022-08-01T09:43:31.896041",
     "status": "completed"
    },
    "tags": []
   },
   "outputs": [
    {
     "name": "stdout",
     "output_type": "stream",
     "text": [
      "\n",
      "Cross-Validation Metrics Summary: \n"
     ]
    },
    {
     "data": {
      "text/html": [
       "<div>\n",
       "<style scoped>\n",
       "    .dataframe tbody tr th:only-of-type {\n",
       "        vertical-align: middle;\n",
       "    }\n",
       "\n",
       "    .dataframe tbody tr th {\n",
       "        vertical-align: top;\n",
       "    }\n",
       "\n",
       "    .dataframe thead th {\n",
       "        text-align: right;\n",
       "    }\n",
       "</style>\n",
       "<table border=\"1\" class=\"dataframe\">\n",
       "  <thead>\n",
       "    <tr style=\"text-align: right;\">\n",
       "      <th></th>\n",
       "      <th></th>\n",
       "      <th>mean</th>\n",
       "      <th>sd</th>\n",
       "      <th>cv_1_valid</th>\n",
       "      <th>cv_2_valid</th>\n",
       "      <th>cv_3_valid</th>\n",
       "      <th>cv_4_valid</th>\n",
       "      <th>cv_5_valid</th>\n",
       "    </tr>\n",
       "  </thead>\n",
       "  <tbody>\n",
       "    <tr>\n",
       "      <th>0</th>\n",
       "      <td>accuracy</td>\n",
       "      <td>0.88296235</td>\n",
       "      <td>0.026893046</td>\n",
       "      <td>0.8985314</td>\n",
       "      <td>0.8645418</td>\n",
       "      <td>0.920904</td>\n",
       "      <td>0.8767313</td>\n",
       "      <td>0.8541033</td>\n",
       "    </tr>\n",
       "    <tr>\n",
       "      <th>1</th>\n",
       "      <td>auc</td>\n",
       "      <td>0.8447821</td>\n",
       "      <td>0.015775004</td>\n",
       "      <td>0.8248061</td>\n",
       "      <td>0.85303646</td>\n",
       "      <td>0.8665343</td>\n",
       "      <td>0.8413103</td>\n",
       "      <td>0.83822346</td>\n",
       "    </tr>\n",
       "    <tr>\n",
       "      <th>2</th>\n",
       "      <td>aucpr</td>\n",
       "      <td>0.25358772</td>\n",
       "      <td>0.06440486</td>\n",
       "      <td>0.31334275</td>\n",
       "      <td>0.23784134</td>\n",
       "      <td>0.3262829</td>\n",
       "      <td>0.21365939</td>\n",
       "      <td>0.17681228</td>\n",
       "    </tr>\n",
       "    <tr>\n",
       "      <th>3</th>\n",
       "      <td>err</td>\n",
       "      <td>0.11703764</td>\n",
       "      <td>0.026893046</td>\n",
       "      <td>0.10146862</td>\n",
       "      <td>0.13545817</td>\n",
       "      <td>0.07909604</td>\n",
       "      <td>0.1232687</td>\n",
       "      <td>0.14589666</td>\n",
       "    </tr>\n",
       "    <tr>\n",
       "      <th>4</th>\n",
       "      <td>err_count</td>\n",
       "      <td>83.8</td>\n",
       "      <td>18.308468</td>\n",
       "      <td>76.0</td>\n",
       "      <td>102.0</td>\n",
       "      <td>56.0</td>\n",
       "      <td>89.0</td>\n",
       "      <td>96.0</td>\n",
       "    </tr>\n",
       "    <tr>\n",
       "      <th>5</th>\n",
       "      <td>f0point5</td>\n",
       "      <td>0.2743523</td>\n",
       "      <td>0.047999006</td>\n",
       "      <td>0.2827381</td>\n",
       "      <td>0.24691358</td>\n",
       "      <td>0.35460994</td>\n",
       "      <td>0.2375</td>\n",
       "      <td>0.25</td>\n",
       "    </tr>\n",
       "    <tr>\n",
       "      <th>6</th>\n",
       "      <td>f1</td>\n",
       "      <td>0.33863124</td>\n",
       "      <td>0.045371447</td>\n",
       "      <td>0.33333334</td>\n",
       "      <td>0.32</td>\n",
       "      <td>0.41666666</td>\n",
       "      <td>0.2992126</td>\n",
       "      <td>0.32394367</td>\n",
       "    </tr>\n",
       "    <tr>\n",
       "      <th>7</th>\n",
       "      <td>f2</td>\n",
       "      <td>0.44596684</td>\n",
       "      <td>0.042130653</td>\n",
       "      <td>0.4059829</td>\n",
       "      <td>0.45454547</td>\n",
       "      <td>0.5050505</td>\n",
       "      <td>0.40425533</td>\n",
       "      <td>0.46</td>\n",
       "    </tr>\n",
       "    <tr>\n",
       "      <th>8</th>\n",
       "      <td>lift_top_group</td>\n",
       "      <td>8.911059</td>\n",
       "      <td>4.9263487</td>\n",
       "      <td>14.04375</td>\n",
       "      <td>4.9539475</td>\n",
       "      <td>10.411765</td>\n",
       "      <td>12.534722</td>\n",
       "      <td>2.6111112</td>\n",
       "    </tr>\n",
       "    <tr>\n",
       "      <th>9</th>\n",
       "      <td>logloss</td>\n",
       "      <td>0.16763246</td>\n",
       "      <td>0.010467282</td>\n",
       "      <td>0.17238317</td>\n",
       "      <td>0.16395459</td>\n",
       "      <td>0.15365171</td>\n",
       "      <td>0.16623174</td>\n",
       "      <td>0.18194108</td>\n",
       "    </tr>\n",
       "    <tr>\n",
       "      <th>10</th>\n",
       "      <td>max_per_class_error</td>\n",
       "      <td>0.42770383</td>\n",
       "      <td>0.07009195</td>\n",
       "      <td>0.525</td>\n",
       "      <td>0.36842105</td>\n",
       "      <td>0.4117647</td>\n",
       "      <td>0.4722222</td>\n",
       "      <td>0.3611111</td>\n",
       "    </tr>\n",
       "    <tr>\n",
       "      <th>11</th>\n",
       "      <td>mcc</td>\n",
       "      <td>0.32001364</td>\n",
       "      <td>0.045841187</td>\n",
       "      <td>0.2994619</td>\n",
       "      <td>0.31282356</td>\n",
       "      <td>0.39781174</td>\n",
       "      <td>0.27729052</td>\n",
       "      <td>0.31268048</td>\n",
       "    </tr>\n",
       "    <tr>\n",
       "      <th>12</th>\n",
       "      <td>mean_per_class_accuracy</td>\n",
       "      <td>0.73601186</td>\n",
       "      <td>0.02887305</td>\n",
       "      <td>0.698713</td>\n",
       "      <td>0.754251</td>\n",
       "      <td>0.7629604</td>\n",
       "      <td>0.71141076</td>\n",
       "      <td>0.7527242</td>\n",
       "    </tr>\n",
       "    <tr>\n",
       "      <th>13</th>\n",
       "      <td>mean_per_class_error</td>\n",
       "      <td>0.26398814</td>\n",
       "      <td>0.02887305</td>\n",
       "      <td>0.30128703</td>\n",
       "      <td>0.24574898</td>\n",
       "      <td>0.23703963</td>\n",
       "      <td>0.28858924</td>\n",
       "      <td>0.24727581</td>\n",
       "    </tr>\n",
       "    <tr>\n",
       "      <th>14</th>\n",
       "      <td>mse</td>\n",
       "      <td>0.043935273</td>\n",
       "      <td>0.0032541123</td>\n",
       "      <td>0.044894587</td>\n",
       "      <td>0.043107882</td>\n",
       "      <td>0.039856896</td>\n",
       "      <td>0.043050908</td>\n",
       "      <td>0.048766095</td>\n",
       "    </tr>\n",
       "    <tr>\n",
       "      <th>15</th>\n",
       "      <td>pr_auc</td>\n",
       "      <td>0.25358772</td>\n",
       "      <td>0.06440486</td>\n",
       "      <td>0.31334275</td>\n",
       "      <td>0.23784134</td>\n",
       "      <td>0.3262829</td>\n",
       "      <td>0.21365939</td>\n",
       "      <td>0.17681228</td>\n",
       "    </tr>\n",
       "    <tr>\n",
       "      <th>16</th>\n",
       "      <td>precision</td>\n",
       "      <td>0.2438791</td>\n",
       "      <td>0.047932755</td>\n",
       "      <td>0.25675675</td>\n",
       "      <td>0.21428572</td>\n",
       "      <td>0.32258064</td>\n",
       "      <td>0.20879121</td>\n",
       "      <td>0.21698113</td>\n",
       "    </tr>\n",
       "    <tr>\n",
       "      <th>17</th>\n",
       "      <td>r2</td>\n",
       "      <td>0.097766526</td>\n",
       "      <td>0.02659649</td>\n",
       "      <td>0.1119214</td>\n",
       "      <td>0.100384355</td>\n",
       "      <td>0.1281713</td>\n",
       "      <td>0.09128003</td>\n",
       "      <td>0.057075553</td>\n",
       "    </tr>\n",
       "    <tr>\n",
       "      <th>18</th>\n",
       "      <td>recall</td>\n",
       "      <td>0.5722962</td>\n",
       "      <td>0.07009195</td>\n",
       "      <td>0.475</td>\n",
       "      <td>0.6315789</td>\n",
       "      <td>0.5882353</td>\n",
       "      <td>0.5277778</td>\n",
       "      <td>0.6388889</td>\n",
       "    </tr>\n",
       "    <tr>\n",
       "      <th>19</th>\n",
       "      <td>rmse</td>\n",
       "      <td>0.20949346</td>\n",
       "      <td>0.007726764</td>\n",
       "      <td>0.21188343</td>\n",
       "      <td>0.20762438</td>\n",
       "      <td>0.19964191</td>\n",
       "      <td>0.20748712</td>\n",
       "      <td>0.22083047</td>\n",
       "    </tr>\n",
       "  </tbody>\n",
       "</table>\n",
       "</div>"
      ],
      "text/plain": [
       "                                    mean            sd   cv_1_valid  \\\n",
       "0                  accuracy   0.88296235   0.026893046    0.8985314   \n",
       "1                       auc    0.8447821   0.015775004    0.8248061   \n",
       "2                     aucpr   0.25358772    0.06440486   0.31334275   \n",
       "3                       err   0.11703764   0.026893046   0.10146862   \n",
       "4                 err_count         83.8     18.308468         76.0   \n",
       "5                  f0point5    0.2743523   0.047999006    0.2827381   \n",
       "6                        f1   0.33863124   0.045371447   0.33333334   \n",
       "7                        f2   0.44596684   0.042130653    0.4059829   \n",
       "8            lift_top_group     8.911059     4.9263487     14.04375   \n",
       "9                   logloss   0.16763246   0.010467282   0.17238317   \n",
       "10      max_per_class_error   0.42770383    0.07009195        0.525   \n",
       "11                      mcc   0.32001364   0.045841187    0.2994619   \n",
       "12  mean_per_class_accuracy   0.73601186    0.02887305     0.698713   \n",
       "13     mean_per_class_error   0.26398814    0.02887305   0.30128703   \n",
       "14                      mse  0.043935273  0.0032541123  0.044894587   \n",
       "15                   pr_auc   0.25358772    0.06440486   0.31334275   \n",
       "16                precision    0.2438791   0.047932755   0.25675675   \n",
       "17                       r2  0.097766526    0.02659649    0.1119214   \n",
       "18                   recall    0.5722962    0.07009195        0.475   \n",
       "19                     rmse   0.20949346   0.007726764   0.21188343   \n",
       "\n",
       "     cv_2_valid   cv_3_valid   cv_4_valid   cv_5_valid  \n",
       "0     0.8645418     0.920904    0.8767313    0.8541033  \n",
       "1    0.85303646    0.8665343    0.8413103   0.83822346  \n",
       "2    0.23784134    0.3262829   0.21365939   0.17681228  \n",
       "3    0.13545817   0.07909604    0.1232687   0.14589666  \n",
       "4         102.0         56.0         89.0         96.0  \n",
       "5    0.24691358   0.35460994       0.2375         0.25  \n",
       "6          0.32   0.41666666    0.2992126   0.32394367  \n",
       "7    0.45454547    0.5050505   0.40425533         0.46  \n",
       "8     4.9539475    10.411765    12.534722    2.6111112  \n",
       "9    0.16395459   0.15365171   0.16623174   0.18194108  \n",
       "10   0.36842105    0.4117647    0.4722222    0.3611111  \n",
       "11   0.31282356   0.39781174   0.27729052   0.31268048  \n",
       "12     0.754251    0.7629604   0.71141076    0.7527242  \n",
       "13   0.24574898   0.23703963   0.28858924   0.24727581  \n",
       "14  0.043107882  0.039856896  0.043050908  0.048766095  \n",
       "15   0.23784134    0.3262829   0.21365939   0.17681228  \n",
       "16   0.21428572   0.32258064   0.20879121   0.21698113  \n",
       "17  0.100384355    0.1281713   0.09128003  0.057075553  \n",
       "18    0.6315789    0.5882353    0.5277778    0.6388889  \n",
       "19   0.20762438   0.19964191   0.20748712   0.22083047  "
      ]
     },
     "metadata": {},
     "output_type": "display_data"
    },
    {
     "name": "stdout",
     "output_type": "stream",
     "text": [
      "\n",
      "See the whole table with table.as_data_frame()\n"
     ]
    },
    {
     "data": {
      "text/plain": []
     },
     "execution_count": 32,
     "metadata": {},
     "output_type": "execute_result"
    }
   ],
   "source": [
    "# show cross validation metrics\n",
    "fit_1.cross_validation_metrics_summary()"
   ]
  },
  {
   "cell_type": "code",
   "execution_count": 33,
   "metadata": {
    "execution": {
     "iopub.execute_input": "2022-08-01T09:43:32.252148Z",
     "iopub.status.busy": "2022-08-01T09:43:32.251308Z",
     "iopub.status.idle": "2022-08-01T09:43:34.949214Z",
     "shell.execute_reply": "2022-08-01T09:43:34.949736Z",
     "shell.execute_reply.started": "2022-08-01T09:41:17.807444Z"
    },
    "papermill": {
     "duration": 2.787244,
     "end_time": "2022-08-01T09:43:34.949897",
     "exception": false,
     "start_time": "2022-08-01T09:43:32.162653",
     "status": "completed"
    },
    "tags": []
   },
   "outputs": [
    {
     "data": {
      "image/png": "[encoded data removed]",
      "text/plain": [
       "<Figure size 504x288 with 1 Axes>"
      ]
     },
     "metadata": {
      "needs_background": "light"
     },
     "output_type": "display_data"
    },
    {
     "data": {
      "image/png": "[encoded data removed]",
      "text/plain": [
       "<Figure size 504x288 with 1 Axes>"
      ]
     },
     "metadata": {
      "needs_background": "light"
     },
     "output_type": "display_data"
    },
    {
     "data": {
      "image/png": "[encoded data removed]",
      "text/plain": [
       "<Figure size 504x288 with 1 Axes>"
      ]
     },
     "metadata": {
      "needs_background": "light"
     },
     "output_type": "display_data"
    },
    {
     "data": {
      "image/png": "[encoded data removed]",
      "text/plain": [
       "<Figure size 504x288 with 1 Axes>"
      ]
     },
     "metadata": {
      "needs_background": "light"
     },
     "output_type": "display_data"
    },
    {
     "data": {
      "image/png": "[encoded data removed]",
      "text/plain": [
       "<Figure size 504x288 with 1 Axes>"
      ]
     },
     "metadata": {
      "needs_background": "light"
     },
     "output_type": "display_data"
    }
   ],
   "source": [
    "# show scoring history - training vs cross validations\n",
    "for i in range(5):\n",
    "    cv_model_temp = fit_1.cross_validation_models()[i]\n",
    "    df_cv_score_history = cv_model_temp.score_history()\n",
    "    my_title = 'CV ' + str(1+i) + ' - Scoring History [AUC]'\n",
    "    plt.scatter(df_cv_score_history.number_of_trees,\n",
    "                y=df_cv_score_history.training_auc, \n",
    "                c='blue', label='training')\n",
    "    plt.scatter(df_cv_score_history.number_of_trees,\n",
    "                y=df_cv_score_history.validation_auc, \n",
    "                c='darkorange', label='validation')\n",
    "    plt.title(my_title)\n",
    "    plt.xlabel('Number of Trees')\n",
    "    plt.ylabel('AUC')\n",
    "    plt.ylim(0.8,1)\n",
    "    plt.legend()\n",
    "    plt.grid()\n",
    "    plt.show()"
   ]
  },
  {
   "cell_type": "markdown",
   "metadata": {
    "papermill": {
     "duration": 0.132876,
     "end_time": "2022-08-01T09:43:35.216552",
     "exception": false,
     "start_time": "2022-08-01T09:43:35.083676",
     "status": "completed"
    },
    "tags": []
   },
   "source": [
    "<a id='7'></a>\n",
    "# Evaluate on Training Data"
   ]
  },
  {
   "cell_type": "markdown",
   "metadata": {
    "papermill": {
     "duration": 0.134112,
     "end_time": "2022-08-01T09:43:35.483912",
     "exception": false,
     "start_time": "2022-08-01T09:43:35.349800",
     "status": "completed"
    },
    "tags": []
   },
   "source": [
    "### ROC Curve - Training Data"
   ]
  },
  {
   "cell_type": "code",
   "execution_count": 34,
   "metadata": {
    "execution": {
     "iopub.execute_input": "2022-08-01T09:43:35.758344Z",
     "iopub.status.busy": "2022-08-01T09:43:35.757482Z",
     "iopub.status.idle": "2022-08-01T09:43:35.921768Z",
     "shell.execute_reply": "2022-08-01T09:43:35.922278Z",
     "shell.execute_reply.started": "2022-08-01T09:41:22.925985Z"
    },
    "papermill": {
     "duration": 0.302147,
     "end_time": "2022-08-01T09:43:35.922455",
     "exception": false,
     "start_time": "2022-08-01T09:43:35.620308",
     "status": "completed"
    },
    "tags": []
   },
   "outputs": [
    {
     "data": {
      "image/png": "[encoded data removed]",
      "text/plain": [
       "<Figure size 504x288 with 1 Axes>"
      ]
     },
     "metadata": {
      "needs_background": "light"
     },
     "output_type": "display_data"
    }
   ],
   "source": [
    "# training performance\n",
    "perf_train = fit_1.model_performance(train=True)\n",
    "perf_train.plot()"
   ]
  },
  {
   "cell_type": "markdown",
   "metadata": {
    "papermill": {
     "duration": 0.13349,
     "end_time": "2022-08-01T09:43:36.190776",
     "exception": false,
     "start_time": "2022-08-01T09:43:36.057286",
     "status": "completed"
    },
    "tags": []
   },
   "source": [
    "### ROC Curve - Cross Validation"
   ]
  },
  {
   "cell_type": "code",
   "execution_count": 35,
   "metadata": {
    "execution": {
     "iopub.execute_input": "2022-08-01T09:43:36.459387Z",
     "iopub.status.busy": "2022-08-01T09:43:36.458770Z",
     "iopub.status.idle": "2022-08-01T09:43:36.599571Z",
     "shell.execute_reply": "2022-08-01T09:43:36.600168Z",
     "shell.execute_reply.started": "2022-08-01T09:41:25.398222Z"
    },
    "papermill": {
     "duration": 0.276966,
     "end_time": "2022-08-01T09:43:36.600338",
     "exception": false,
     "start_time": "2022-08-01T09:43:36.323372",
     "status": "completed"
    },
    "tags": []
   },
   "outputs": [
    {
     "data": {
      "image/png": "[encoded data removed]",
      "text/plain": [
       "<Figure size 504x288 with 1 Axes>"
      ]
     },
     "metadata": {
      "needs_background": "light"
     },
     "output_type": "display_data"
    }
   ],
   "source": [
    "# cross validation performance\n",
    "perf_cv = fit_1.model_performance(xval=True)\n",
    "perf_cv.plot()"
   ]
  },
  {
   "cell_type": "markdown",
   "metadata": {
    "papermill": {
     "duration": 0.135402,
     "end_time": "2022-08-01T09:43:36.872721",
     "exception": false,
     "start_time": "2022-08-01T09:43:36.737319",
     "status": "completed"
    },
    "tags": []
   },
   "source": [
    "### Confusion Matrix"
   ]
  },
  {
   "cell_type": "code",
   "execution_count": 36,
   "metadata": {
    "execution": {
     "iopub.execute_input": "2022-08-01T09:43:37.148461Z",
     "iopub.status.busy": "2022-08-01T09:43:37.147846Z",
     "iopub.status.idle": "2022-08-01T09:43:37.170879Z",
     "shell.execute_reply": "2022-08-01T09:43:37.170441Z",
     "shell.execute_reply.started": "2022-08-01T09:41:28.042574Z"
    },
    "papermill": {
     "duration": 0.161787,
     "end_time": "2022-08-01T09:43:37.171012",
     "exception": false,
     "start_time": "2022-08-01T09:43:37.009225",
     "status": "completed"
    },
    "tags": []
   },
   "outputs": [
    {
     "name": "stdout",
     "output_type": "stream",
     "text": [
      "\n",
      "Confusion Matrix (Act/Pred) for max f1 @ threshold = 0.12790678230003902: \n"
     ]
    },
    {
     "data": {
      "text/html": [
       "<div>\n",
       "<style scoped>\n",
       "    .dataframe tbody tr th:only-of-type {\n",
       "        vertical-align: middle;\n",
       "    }\n",
       "\n",
       "    .dataframe tbody tr th {\n",
       "        vertical-align: top;\n",
       "    }\n",
       "\n",
       "    .dataframe thead th {\n",
       "        text-align: right;\n",
       "    }\n",
       "</style>\n",
       "<table border=\"1\" class=\"dataframe\">\n",
       "  <thead>\n",
       "    <tr style=\"text-align: right;\">\n",
       "      <th></th>\n",
       "      <th></th>\n",
       "      <th>0</th>\n",
       "      <th>1</th>\n",
       "      <th>Error</th>\n",
       "      <th>Rate</th>\n",
       "    </tr>\n",
       "  </thead>\n",
       "  <tbody>\n",
       "    <tr>\n",
       "      <th>0</th>\n",
       "      <td>0</td>\n",
       "      <td>3209.0</td>\n",
       "      <td>197.0</td>\n",
       "      <td>0.0578</td>\n",
       "      <td>(197.0/3406.0)</td>\n",
       "    </tr>\n",
       "    <tr>\n",
       "      <th>1</th>\n",
       "      <td>1</td>\n",
       "      <td>79.0</td>\n",
       "      <td>105.0</td>\n",
       "      <td>0.4293</td>\n",
       "      <td>(79.0/184.0)</td>\n",
       "    </tr>\n",
       "    <tr>\n",
       "      <th>2</th>\n",
       "      <td>Total</td>\n",
       "      <td>3288.0</td>\n",
       "      <td>302.0</td>\n",
       "      <td>0.0769</td>\n",
       "      <td>(276.0/3590.0)</td>\n",
       "    </tr>\n",
       "  </tbody>\n",
       "</table>\n",
       "</div>"
      ],
      "text/plain": [
       "               0      1   Error             Rate\n",
       "0      0  3209.0  197.0  0.0578   (197.0/3406.0)\n",
       "1      1    79.0  105.0  0.4293     (79.0/184.0)\n",
       "2  Total  3288.0  302.0  0.0769   (276.0/3590.0)"
      ]
     },
     "metadata": {},
     "output_type": "display_data"
    }
   ],
   "source": [
    "# on training data - automatic threshold (optimal F1 score)\n",
    "conf_train = fit_1.confusion_matrix(train=True)\n",
    "conf_train.show()"
   ]
  },
  {
   "cell_type": "code",
   "execution_count": 37,
   "metadata": {
    "execution": {
     "iopub.execute_input": "2022-08-01T09:43:37.357297Z",
     "iopub.status.busy": "2022-08-01T09:43:37.356732Z",
     "iopub.status.idle": "2022-08-01T09:43:37.366693Z",
     "shell.execute_reply": "2022-08-01T09:43:37.365903Z",
     "shell.execute_reply.started": "2022-08-01T09:41:30.266769Z"
    },
    "papermill": {
     "duration": 0.104736,
     "end_time": "2022-08-01T09:43:37.366905",
     "exception": false,
     "start_time": "2022-08-01T09:43:37.262169",
     "status": "completed"
    },
    "tags": []
   },
   "outputs": [
    {
     "name": "stdout",
     "output_type": "stream",
     "text": [
      "Accuracy: 0.92312\n"
     ]
    }
   ],
   "source": [
    "# corresponding accuracy for this threshold:\n",
    "conf_list_temp = conf_train.to_list()\n",
    "n_matrix = sum(conf_list_temp[0]) + sum(conf_list_temp[1])\n",
    "acc_t0 = (conf_list_temp[0][0]+conf_list_temp[1][1]) / n_matrix\n",
    "print('Accuracy:', np.round(acc_t0,6))"
   ]
  },
  {
   "cell_type": "markdown",
   "metadata": {
    "papermill": {
     "duration": 0.092712,
     "end_time": "2022-08-01T09:43:37.555313",
     "exception": false,
     "start_time": "2022-08-01T09:43:37.462601",
     "status": "completed"
    },
    "tags": []
   },
   "source": [
    "#### Selecting threshold by optimal F1 is not really helpful here, we have a big difference between actual positives (184) and predicted positives (302). Let's try to improve by selecting the threshold manually:"
   ]
  },
  {
   "cell_type": "code",
   "execution_count": 38,
   "metadata": {
    "execution": {
     "iopub.execute_input": "2022-08-01T09:43:37.744897Z",
     "iopub.status.busy": "2022-08-01T09:43:37.744431Z",
     "iopub.status.idle": "2022-08-01T09:43:37.764238Z",
     "shell.execute_reply": "2022-08-01T09:43:37.764636Z",
     "shell.execute_reply.started": "2022-08-01T09:41:32.612543Z"
    },
    "papermill": {
     "duration": 0.115666,
     "end_time": "2022-08-01T09:43:37.764770",
     "exception": false,
     "start_time": "2022-08-01T09:43:37.649104",
     "status": "completed"
    },
    "tags": []
   },
   "outputs": [
    {
     "name": "stdout",
     "output_type": "stream",
     "text": [
      "Could not find exact threshold 0.148; using closest threshold found 0.1478570244997902.\n",
      "\n",
      "Confusion Matrix (Act/Pred) @ threshold = 0.1478570244997902: \n"
     ]
    },
    {
     "data": {
      "text/html": [
       "<div>\n",
       "<style scoped>\n",
       "    .dataframe tbody tr th:only-of-type {\n",
       "        vertical-align: middle;\n",
       "    }\n",
       "\n",
       "    .dataframe tbody tr th {\n",
       "        vertical-align: top;\n",
       "    }\n",
       "\n",
       "    .dataframe thead th {\n",
       "        text-align: right;\n",
       "    }\n",
       "</style>\n",
       "<table border=\"1\" class=\"dataframe\">\n",
       "  <thead>\n",
       "    <tr style=\"text-align: right;\">\n",
       "      <th></th>\n",
       "      <th></th>\n",
       "      <th>0</th>\n",
       "      <th>1</th>\n",
       "      <th>Error</th>\n",
       "      <th>Rate</th>\n",
       "    </tr>\n",
       "  </thead>\n",
       "  <tbody>\n",
       "    <tr>\n",
       "      <th>0</th>\n",
       "      <td>0</td>\n",
       "      <td>3297.0</td>\n",
       "      <td>109.0</td>\n",
       "      <td>0.032</td>\n",
       "      <td>(109.0/3406.0)</td>\n",
       "    </tr>\n",
       "    <tr>\n",
       "      <th>1</th>\n",
       "      <td>1</td>\n",
       "      <td>108.0</td>\n",
       "      <td>76.0</td>\n",
       "      <td>0.587</td>\n",
       "      <td>(108.0/184.0)</td>\n",
       "    </tr>\n",
       "    <tr>\n",
       "      <th>2</th>\n",
       "      <td>Total</td>\n",
       "      <td>3405.0</td>\n",
       "      <td>185.0</td>\n",
       "      <td>0.0604</td>\n",
       "      <td>(217.0/3590.0)</td>\n",
       "    </tr>\n",
       "  </tbody>\n",
       "</table>\n",
       "</div>"
      ],
      "text/plain": [
       "               0      1   Error             Rate\n",
       "0      0  3297.0  109.0   0.032   (109.0/3406.0)\n",
       "1      1   108.0   76.0   0.587    (108.0/184.0)\n",
       "2  Total  3405.0  185.0  0.0604   (217.0/3590.0)"
      ]
     },
     "metadata": {},
     "output_type": "display_data"
    }
   ],
   "source": [
    "# alternatively specify threshold manually - here we try to achieve a symmetric outcome\n",
    "tt = 0.148\n",
    "conf_train_man = fit_1.confusion_matrix(train=True, thresholds=tt)\n",
    "conf_train_man.show()"
   ]
  },
  {
   "cell_type": "code",
   "execution_count": 39,
   "metadata": {
    "execution": {
     "iopub.execute_input": "2022-08-01T09:43:37.967399Z",
     "iopub.status.busy": "2022-08-01T09:43:37.966469Z",
     "iopub.status.idle": "2022-08-01T09:43:37.973642Z",
     "shell.execute_reply": "2022-08-01T09:43:37.973026Z",
     "shell.execute_reply.started": "2022-08-01T09:41:34.876780Z"
    },
    "papermill": {
     "duration": 0.114519,
     "end_time": "2022-08-01T09:43:37.973789",
     "exception": false,
     "start_time": "2022-08-01T09:43:37.859270",
     "status": "completed"
    },
    "tags": []
   },
   "outputs": [
    {
     "name": "stdout",
     "output_type": "stream",
     "text": [
      "Accuracy: 0.939554\n"
     ]
    }
   ],
   "source": [
    "# corresponding accuracy for manual threshold:\n",
    "conf_list_temp = conf_train_man.to_list()\n",
    "n_matrix = sum(conf_list_temp[0]) + sum(conf_list_temp[1]) \n",
    "acc_t1 = (conf_list_temp[0][0]+conf_list_temp[1][1]) / n_matrix\n",
    "print('Accuracy:', np.round(acc_t1,6))"
   ]
  },
  {
   "cell_type": "markdown",
   "metadata": {
    "papermill": {
     "duration": 0.141488,
     "end_time": "2022-08-01T09:43:38.262896",
     "exception": false,
     "start_time": "2022-08-01T09:43:38.121408",
     "status": "completed"
    },
    "tags": []
   },
   "source": [
    "#### Much better: 184 actual positives vs. 185 predicted positives!"
   ]
  },
  {
   "cell_type": "code",
   "execution_count": 40,
   "metadata": {
    "execution": {
     "iopub.execute_input": "2022-08-01T09:43:38.550210Z",
     "iopub.status.busy": "2022-08-01T09:43:38.549351Z",
     "iopub.status.idle": "2022-08-01T09:43:38.568602Z",
     "shell.execute_reply": "2022-08-01T09:43:38.569170Z",
     "shell.execute_reply.started": "2022-08-01T09:41:40.234092Z"
    },
    "papermill": {
     "duration": 0.166225,
     "end_time": "2022-08-01T09:43:38.569337",
     "exception": false,
     "start_time": "2022-08-01T09:43:38.403112",
     "status": "completed"
    },
    "tags": []
   },
   "outputs": [
    {
     "name": "stdout",
     "output_type": "stream",
     "text": [
      "Could not find exact threshold 0.148; using closest threshold found 0.14772756583508664.\n",
      "\n",
      "Confusion Matrix (Act/Pred) @ threshold = 0.14772756583508664: \n"
     ]
    },
    {
     "data": {
      "text/html": [
       "<div>\n",
       "<style scoped>\n",
       "    .dataframe tbody tr th:only-of-type {\n",
       "        vertical-align: middle;\n",
       "    }\n",
       "\n",
       "    .dataframe tbody tr th {\n",
       "        vertical-align: top;\n",
       "    }\n",
       "\n",
       "    .dataframe thead th {\n",
       "        text-align: right;\n",
       "    }\n",
       "</style>\n",
       "<table border=\"1\" class=\"dataframe\">\n",
       "  <thead>\n",
       "    <tr style=\"text-align: right;\">\n",
       "      <th></th>\n",
       "      <th></th>\n",
       "      <th>0</th>\n",
       "      <th>1</th>\n",
       "      <th>Error</th>\n",
       "      <th>Rate</th>\n",
       "    </tr>\n",
       "  </thead>\n",
       "  <tbody>\n",
       "    <tr>\n",
       "      <th>0</th>\n",
       "      <td>0</td>\n",
       "      <td>3266.0</td>\n",
       "      <td>140.0</td>\n",
       "      <td>0.0411</td>\n",
       "      <td>(140.0/3406.0)</td>\n",
       "    </tr>\n",
       "    <tr>\n",
       "      <th>1</th>\n",
       "      <td>1</td>\n",
       "      <td>143.0</td>\n",
       "      <td>41.0</td>\n",
       "      <td>0.7772</td>\n",
       "      <td>(143.0/184.0)</td>\n",
       "    </tr>\n",
       "    <tr>\n",
       "      <th>2</th>\n",
       "      <td>Total</td>\n",
       "      <td>3409.0</td>\n",
       "      <td>181.0</td>\n",
       "      <td>0.0788</td>\n",
       "      <td>(283.0/3590.0)</td>\n",
       "    </tr>\n",
       "  </tbody>\n",
       "</table>\n",
       "</div>"
      ],
      "text/plain": [
       "               0      1   Error             Rate\n",
       "0      0  3266.0  140.0  0.0411   (140.0/3406.0)\n",
       "1      1   143.0   41.0  0.7772    (143.0/184.0)\n",
       "2  Total  3409.0  181.0  0.0788   (283.0/3590.0)"
      ]
     },
     "metadata": {},
     "output_type": "display_data"
    }
   ],
   "source": [
    "# check on cross validation\n",
    "conf_cv_man = fit_1.confusion_matrix(xval=True, thresholds=tt)\n",
    "conf_cv_man.show()"
   ]
  },
  {
   "cell_type": "code",
   "execution_count": 41,
   "metadata": {
    "execution": {
     "iopub.execute_input": "2022-08-01T09:43:38.863484Z",
     "iopub.status.busy": "2022-08-01T09:43:38.862637Z",
     "iopub.status.idle": "2022-08-01T09:43:38.871467Z",
     "shell.execute_reply": "2022-08-01T09:43:38.870857Z",
     "shell.execute_reply.started": "2022-08-01T09:41:42.549803Z"
    },
    "papermill": {
     "duration": 0.158088,
     "end_time": "2022-08-01T09:43:38.871622",
     "exception": false,
     "start_time": "2022-08-01T09:43:38.713534",
     "status": "completed"
    },
    "tags": []
   },
   "outputs": [
    {
     "name": "stdout",
     "output_type": "stream",
     "text": [
      "Accuracy: 0.92117\n"
     ]
    }
   ],
   "source": [
    "# corresponding accuracy for our manual threshold:\n",
    "conf_list_temp = conf_cv_man.to_list()\n",
    "n_matrix = sum(conf_list_temp[0]) + sum(conf_list_temp[1])\n",
    "acc_t1_CV = (conf_list_temp[0][0]+conf_list_temp[1][1]) / n_matrix\n",
    "print('Accuracy:', np.round(acc_t1_CV,6))"
   ]
  },
  {
   "cell_type": "markdown",
   "metadata": {
    "papermill": {
     "duration": 0.146128,
     "end_time": "2022-08-01T09:43:39.164632",
     "exception": false,
     "start_time": "2022-08-01T09:43:39.018504",
     "status": "completed"
    },
    "tags": []
   },
   "source": [
    "### Variable Importance"
   ]
  },
  {
   "cell_type": "code",
   "execution_count": 42,
   "metadata": {
    "execution": {
     "iopub.execute_input": "2022-08-01T09:43:39.476979Z",
     "iopub.status.busy": "2022-08-01T09:43:39.473873Z",
     "iopub.status.idle": "2022-08-01T09:43:39.626091Z",
     "shell.execute_reply": "2022-08-01T09:43:39.625469Z",
     "shell.execute_reply.started": "2022-08-01T09:41:45.090440Z"
    },
    "papermill": {
     "duration": 0.314811,
     "end_time": "2022-08-01T09:43:39.626229",
     "exception": false,
     "start_time": "2022-08-01T09:43:39.311418",
     "status": "completed"
    },
    "tags": []
   },
   "outputs": [
    {
     "data": {
      "image/png": "[encoded data removed]",
      "text/plain": [
       "<Figure size 1008x720 with 1 Axes>"
      ]
     },
     "metadata": {
      "needs_background": "light"
     },
     "output_type": "display_data"
    }
   ],
   "source": [
    "# basic version\n",
    "fit_1.varimp_plot()"
   ]
  },
  {
   "cell_type": "code",
   "execution_count": 43,
   "metadata": {
    "execution": {
     "iopub.execute_input": "2022-08-01T09:43:39.964030Z",
     "iopub.status.busy": "2022-08-01T09:43:39.963389Z",
     "iopub.status.idle": "2022-08-01T09:43:42.201260Z",
     "shell.execute_reply": "2022-08-01T09:43:42.201723Z",
     "shell.execute_reply.started": "2022-08-01T09:41:47.563344Z"
    },
    "papermill": {
     "duration": 2.42804,
     "end_time": "2022-08-01T09:43:42.201859",
     "exception": false,
     "start_time": "2022-08-01T09:43:39.773819",
     "status": "completed"
    },
    "tags": []
   },
   "outputs": [
    {
     "name": "stdout",
     "output_type": "stream",
     "text": [
      "Elapsed time [s]:  1.84\n"
     ]
    },
    {
     "data": {
      "image/png": "[encoded data removed]",
      "text/plain": [
       "<Figure size 864x864 with 2 Axes>"
      ]
     },
     "metadata": {
      "needs_background": "light"
     },
     "output_type": "display_data"
    }
   ],
   "source": [
    "# variable importance using shap values => see direction as well as severity of feature impact\n",
    "t1 = time.time()\n",
    "fit_1.shap_summary_plot(train_hex);\n",
    "t2 = time.time()\n",
    "print('Elapsed time [s]: ', np.round(t2-t1,2))"
   ]
  },
  {
   "cell_type": "markdown",
   "metadata": {
    "papermill": {
     "duration": 0.101324,
     "end_time": "2022-08-01T09:43:42.406055",
     "exception": false,
     "start_time": "2022-08-01T09:43:42.304731",
     "status": "completed"
    },
    "tags": []
   },
   "source": [
    "#### The blue dots for BMI are probably a little bit confusing. They are based on the strongly predictive missing values which we have encoded with -99!"
   ]
  },
  {
   "cell_type": "markdown",
   "metadata": {
    "papermill": {
     "duration": 0.102464,
     "end_time": "2022-08-01T09:43:42.608549",
     "exception": false,
     "start_time": "2022-08-01T09:43:42.506085",
     "status": "completed"
    },
    "tags": []
   },
   "source": [
    "### Predictions on training data"
   ]
  },
  {
   "cell_type": "code",
   "execution_count": 44,
   "metadata": {
    "execution": {
     "iopub.execute_input": "2022-08-01T09:43:42.815923Z",
     "iopub.status.busy": "2022-08-01T09:43:42.815253Z",
     "iopub.status.idle": "2022-08-01T09:43:43.354192Z",
     "shell.execute_reply": "2022-08-01T09:43:43.354715Z",
     "shell.execute_reply.started": "2022-08-01T09:41:56.335119Z"
    },
    "papermill": {
     "duration": 0.644536,
     "end_time": "2022-08-01T09:43:43.354879",
     "exception": false,
     "start_time": "2022-08-01T09:43:42.710343",
     "status": "completed"
    },
    "tags": []
   },
   "outputs": [
    {
     "name": "stdout",
     "output_type": "stream",
     "text": [
      "gbm prediction progress: |████████████████████████████████████████████████| 100%\n"
     ]
    },
    {
     "data": {
      "image/png": "[encoded data removed]",
      "text/plain": [
       "<Figure size 504x288 with 1 Axes>"
      ]
     },
     "metadata": {
      "needs_background": "light"
     },
     "output_type": "display_data"
    }
   ],
   "source": [
    "# predict on train set (extract probabilities only)\n",
    "pred_train = fit_1.predict(train_hex)['p1']\n",
    "pred_train = pred_train.as_data_frame().p1\n",
    "\n",
    "# and plot\n",
    "plt.hist(pred_train, bins=50)\n",
    "plt.title('Predictions on Train Set')\n",
    "plt.grid()\n",
    "plt.show()"
   ]
  },
  {
   "cell_type": "code",
   "execution_count": 45,
   "metadata": {
    "execution": {
     "iopub.execute_input": "2022-08-01T09:43:43.663646Z",
     "iopub.status.busy": "2022-08-01T09:43:43.662837Z",
     "iopub.status.idle": "2022-08-01T09:43:43.680934Z",
     "shell.execute_reply": "2022-08-01T09:43:43.680188Z",
     "shell.execute_reply.started": "2022-08-01T09:41:58.874996Z"
    },
    "papermill": {
     "duration": 0.173663,
     "end_time": "2022-08-01T09:43:43.681134",
     "exception": false,
     "start_time": "2022-08-01T09:43:43.507471",
     "status": "completed"
    },
    "tags": []
   },
   "outputs": [
    {
     "name": "stdout",
     "output_type": "stream",
     "text": [
      "Predicted Frequency: 184.40023228358385\n",
      "Actual Frequency   : 184\n"
     ]
    }
   ],
   "source": [
    "# check calibration\n",
    "frequency_pred = sum(pred_train)\n",
    "frequency_act = df_train.target.sum()\n",
    "print('Predicted Frequency:', frequency_pred)\n",
    "print('Actual Frequency   :', frequency_act)"
   ]
  },
  {
   "cell_type": "markdown",
   "metadata": {
    "papermill": {
     "duration": 0.157601,
     "end_time": "2022-08-01T09:43:43.999272",
     "exception": false,
     "start_time": "2022-08-01T09:43:43.841671",
     "status": "completed"
    },
    "tags": []
   },
   "source": [
    "<a id='8'></a>\n",
    "# Evaluate on Test Set"
   ]
  },
  {
   "cell_type": "code",
   "execution_count": 46,
   "metadata": {
    "execution": {
     "iopub.execute_input": "2022-08-01T09:43:44.318028Z",
     "iopub.status.busy": "2022-08-01T09:43:44.317159Z",
     "iopub.status.idle": "2022-08-01T09:43:44.580055Z",
     "shell.execute_reply": "2022-08-01T09:43:44.579146Z",
     "shell.execute_reply.started": "2022-08-01T09:42:01.620470Z"
    },
    "papermill": {
     "duration": 0.423961,
     "end_time": "2022-08-01T09:43:44.580243",
     "exception": false,
     "start_time": "2022-08-01T09:43:44.156282",
     "status": "completed"
    },
    "tags": []
   },
   "outputs": [
    {
     "data": {
      "image/png": "[encoded data removed]",
      "text/plain": [
       "<Figure size 504x288 with 1 Axes>"
      ]
     },
     "metadata": {
      "needs_background": "light"
     },
     "output_type": "display_data"
    }
   ],
   "source": [
    "# calc performance on test test\n",
    "perf_test = fit_1.model_performance(test_hex)\n",
    "\n",
    "# ROC Curve - Test Set\n",
    "perf_test.plot()"
   ]
  },
  {
   "cell_type": "code",
   "execution_count": 47,
   "metadata": {
    "execution": {
     "iopub.execute_input": "2022-08-01T09:43:44.909639Z",
     "iopub.status.busy": "2022-08-01T09:43:44.909017Z",
     "iopub.status.idle": "2022-08-01T09:43:44.930330Z",
     "shell.execute_reply": "2022-08-01T09:43:44.930832Z",
     "shell.execute_reply.started": "2022-08-01T09:42:04.111311Z"
    },
    "papermill": {
     "duration": 0.180188,
     "end_time": "2022-08-01T09:43:44.931017",
     "exception": false,
     "start_time": "2022-08-01T09:43:44.750829",
     "status": "completed"
    },
    "tags": []
   },
   "outputs": [
    {
     "name": "stdout",
     "output_type": "stream",
     "text": [
      "Could not find exact threshold 0.148; using closest threshold found 0.1480016916497603.\n",
      "\n",
      "Confusion Matrix (Act/Pred) @ threshold = 0.1480016916497603: \n"
     ]
    },
    {
     "data": {
      "text/html": [
       "<div>\n",
       "<style scoped>\n",
       "    .dataframe tbody tr th:only-of-type {\n",
       "        vertical-align: middle;\n",
       "    }\n",
       "\n",
       "    .dataframe tbody tr th {\n",
       "        vertical-align: top;\n",
       "    }\n",
       "\n",
       "    .dataframe thead th {\n",
       "        text-align: right;\n",
       "    }\n",
       "</style>\n",
       "<table border=\"1\" class=\"dataframe\">\n",
       "  <thead>\n",
       "    <tr style=\"text-align: right;\">\n",
       "      <th></th>\n",
       "      <th></th>\n",
       "      <th>0</th>\n",
       "      <th>1</th>\n",
       "      <th>Error</th>\n",
       "      <th>Rate</th>\n",
       "    </tr>\n",
       "  </thead>\n",
       "  <tbody>\n",
       "    <tr>\n",
       "      <th>0</th>\n",
       "      <td>0</td>\n",
       "      <td>1401.0</td>\n",
       "      <td>54.0</td>\n",
       "      <td>0.0371</td>\n",
       "      <td>(54.0/1455.0)</td>\n",
       "    </tr>\n",
       "    <tr>\n",
       "      <th>1</th>\n",
       "      <td>1</td>\n",
       "      <td>50.0</td>\n",
       "      <td>15.0</td>\n",
       "      <td>0.7692</td>\n",
       "      <td>(50.0/65.0)</td>\n",
       "    </tr>\n",
       "    <tr>\n",
       "      <th>2</th>\n",
       "      <td>Total</td>\n",
       "      <td>1451.0</td>\n",
       "      <td>69.0</td>\n",
       "      <td>0.0684</td>\n",
       "      <td>(104.0/1520.0)</td>\n",
       "    </tr>\n",
       "  </tbody>\n",
       "</table>\n",
       "</div>"
      ],
      "text/plain": [
       "               0     1   Error             Rate\n",
       "0      0  1401.0  54.0  0.0371    (54.0/1455.0)\n",
       "1      1    50.0  15.0  0.7692      (50.0/65.0)\n",
       "2  Total  1451.0  69.0  0.0684   (104.0/1520.0)"
      ]
     },
     "metadata": {},
     "output_type": "display_data"
    }
   ],
   "source": [
    "# confusion matrix using our manual threshold\n",
    "conf_test_man = perf_test.confusion_matrix(thresholds=tt)\n",
    "conf_test_man.show()"
   ]
  },
  {
   "cell_type": "markdown",
   "metadata": {
    "papermill": {
     "duration": 0.157474,
     "end_time": "2022-08-01T09:43:45.249499",
     "exception": false,
     "start_time": "2022-08-01T09:43:45.092025",
     "status": "completed"
    },
    "tags": []
   },
   "source": [
    "#### Quite good:  65 actual positives vs 69 predicted positives."
   ]
  },
  {
   "cell_type": "code",
   "execution_count": 48,
   "metadata": {
    "execution": {
     "iopub.execute_input": "2022-08-01T09:43:45.567052Z",
     "iopub.status.busy": "2022-08-01T09:43:45.566444Z",
     "iopub.status.idle": "2022-08-01T09:43:45.574455Z",
     "shell.execute_reply": "2022-08-01T09:43:45.575050Z",
     "shell.execute_reply.started": "2022-08-01T09:42:15.696092Z"
    },
    "papermill": {
     "duration": 0.168118,
     "end_time": "2022-08-01T09:43:45.575208",
     "exception": false,
     "start_time": "2022-08-01T09:43:45.407090",
     "status": "completed"
    },
    "tags": []
   },
   "outputs": [
    {
     "name": "stdout",
     "output_type": "stream",
     "text": [
      "Accuracy: 0.931579\n"
     ]
    }
   ],
   "source": [
    "# calc accuracy for manual threshold:\n",
    "conf_list_temp = conf_test_man.to_list()\n",
    "n_matrix = sum(conf_list_temp[0]) + sum(conf_list_temp[1]) \n",
    "acc_t1_test = (conf_list_temp[0][0]+conf_list_temp[1][1]) / n_matrix\n",
    "print('Accuracy:', np.round(acc_t1_test,6))"
   ]
  },
  {
   "cell_type": "code",
   "execution_count": 49,
   "metadata": {
    "execution": {
     "iopub.execute_input": "2022-08-01T09:43:45.894819Z",
     "iopub.status.busy": "2022-08-01T09:43:45.894219Z",
     "iopub.status.idle": "2022-08-01T09:43:46.408365Z",
     "shell.execute_reply": "2022-08-01T09:43:46.407897Z",
     "shell.execute_reply.started": "2022-08-01T09:42:17.131796Z"
    },
    "papermill": {
     "duration": 0.674917,
     "end_time": "2022-08-01T09:43:46.408482",
     "exception": false,
     "start_time": "2022-08-01T09:43:45.733565",
     "status": "completed"
    },
    "tags": []
   },
   "outputs": [
    {
     "name": "stdout",
     "output_type": "stream",
     "text": [
      "gbm prediction progress: |████████████████████████████████████████████████| 100%\n"
     ]
    },
    {
     "data": {
      "image/png": "[encoded data removed]",
      "text/plain": [
       "<Figure size 504x288 with 1 Axes>"
      ]
     },
     "metadata": {
      "needs_background": "light"
     },
     "output_type": "display_data"
    }
   ],
   "source": [
    "# predict on test set (extract probabilities only)\n",
    "pred_test = fit_1.predict(test_hex)['p1']\n",
    "pred_test = pred_test.as_data_frame().p1\n",
    "\n",
    "# and plot\n",
    "plt.hist(pred_test, bins=50)\n",
    "plt.title('Predictions on Test Set')\n",
    "plt.grid()\n",
    "plt.show()"
   ]
  },
  {
   "cell_type": "code",
   "execution_count": 50,
   "metadata": {
    "execution": {
     "iopub.execute_input": "2022-08-01T09:43:46.693044Z",
     "iopub.status.busy": "2022-08-01T09:43:46.692431Z",
     "iopub.status.idle": "2022-08-01T09:43:46.695123Z",
     "shell.execute_reply": "2022-08-01T09:43:46.694611Z",
     "shell.execute_reply.started": "2022-08-01T09:42:19.881370Z"
    },
    "papermill": {
     "duration": 0.1722,
     "end_time": "2022-08-01T09:43:46.695236",
     "exception": false,
     "start_time": "2022-08-01T09:43:46.523036",
     "status": "completed"
    },
    "tags": []
   },
   "outputs": [],
   "source": [
    "# connect prediction with data frame\n",
    "df_test['prediction'] = pred_test"
   ]
  },
  {
   "cell_type": "markdown",
   "metadata": {
    "papermill": {
     "duration": 0.114734,
     "end_time": "2022-08-01T09:43:46.923378",
     "exception": false,
     "start_time": "2022-08-01T09:43:46.808644",
     "status": "completed"
    },
    "tags": []
   },
   "source": [
    "### Show examples"
   ]
  },
  {
   "cell_type": "code",
   "execution_count": 51,
   "metadata": {
    "execution": {
     "iopub.execute_input": "2022-08-01T09:43:47.152531Z",
     "iopub.status.busy": "2022-08-01T09:43:47.151757Z",
     "iopub.status.idle": "2022-08-01T09:43:47.190164Z",
     "shell.execute_reply": "2022-08-01T09:43:47.189666Z",
     "shell.execute_reply.started": "2022-08-01T09:42:22.123818Z"
    },
    "papermill": {
     "duration": 0.157198,
     "end_time": "2022-08-01T09:43:47.190273",
     "exception": false,
     "start_time": "2022-08-01T09:43:47.033075",
     "status": "completed"
    },
    "tags": []
   },
   "outputs": [
    {
     "data": {
      "text/html": [
       "<div>\n",
       "<style scoped>\n",
       "    .dataframe tbody tr th:only-of-type {\n",
       "        vertical-align: middle;\n",
       "    }\n",
       "\n",
       "    .dataframe tbody tr th {\n",
       "        vertical-align: top;\n",
       "    }\n",
       "\n",
       "    .dataframe thead th {\n",
       "        text-align: right;\n",
       "    }\n",
       "</style>\n",
       "<table border=\"1\" class=\"dataframe\">\n",
       "  <thead>\n",
       "    <tr style=\"text-align: right;\">\n",
       "      <th></th>\n",
       "      <th>id</th>\n",
       "      <th>gender</th>\n",
       "      <th>age</th>\n",
       "      <th>hypertension</th>\n",
       "      <th>heart_disease</th>\n",
       "      <th>ever_married</th>\n",
       "      <th>work_type</th>\n",
       "      <th>residence_type</th>\n",
       "      <th>avg_glucose_level</th>\n",
       "      <th>bmi</th>\n",
       "      <th>smoking_status</th>\n",
       "      <th>target</th>\n",
       "      <th>age_bin</th>\n",
       "      <th>avg_glucose_level_bin</th>\n",
       "      <th>bmi_bin</th>\n",
       "      <th>prediction</th>\n",
       "    </tr>\n",
       "  </thead>\n",
       "  <tbody>\n",
       "    <tr>\n",
       "      <th>475</th>\n",
       "      <td>17752</td>\n",
       "      <td>Male</td>\n",
       "      <td>76.0</td>\n",
       "      <td>0</td>\n",
       "      <td>1</td>\n",
       "      <td>Yes</td>\n",
       "      <td>Private</td>\n",
       "      <td>Urban</td>\n",
       "      <td>79.05</td>\n",
       "      <td>-99.0</td>\n",
       "      <td>Unknown</td>\n",
       "      <td>0</td>\n",
       "      <td>(75.0, 82.0]</td>\n",
       "      <td>(73.8, 80.0]</td>\n",
       "      <td>(-100, 10]</td>\n",
       "      <td>0.561063</td>\n",
       "    </tr>\n",
       "    <tr>\n",
       "      <th>21</th>\n",
       "      <td>7356</td>\n",
       "      <td>Male</td>\n",
       "      <td>75.0</td>\n",
       "      <td>0</td>\n",
       "      <td>0</td>\n",
       "      <td>Yes</td>\n",
       "      <td>Private</td>\n",
       "      <td>Urban</td>\n",
       "      <td>104.72</td>\n",
       "      <td>-99.0</td>\n",
       "      <td>Unknown</td>\n",
       "      <td>1</td>\n",
       "      <td>(65.0, 75.0]</td>\n",
       "      <td>(98.9, 108.5]</td>\n",
       "      <td>(-100, 10]</td>\n",
       "      <td>0.550400</td>\n",
       "    </tr>\n",
       "    <tr>\n",
       "      <th>553</th>\n",
       "      <td>1741</td>\n",
       "      <td>Male</td>\n",
       "      <td>77.0</td>\n",
       "      <td>0</td>\n",
       "      <td>0</td>\n",
       "      <td>Yes</td>\n",
       "      <td>Private</td>\n",
       "      <td>Urban</td>\n",
       "      <td>74.26</td>\n",
       "      <td>-99.0</td>\n",
       "      <td>formerly smoked</td>\n",
       "      <td>0</td>\n",
       "      <td>(75.0, 82.0]</td>\n",
       "      <td>(73.8, 80.0]</td>\n",
       "      <td>(-100, 10]</td>\n",
       "      <td>0.545057</td>\n",
       "    </tr>\n",
       "    <tr>\n",
       "      <th>380</th>\n",
       "      <td>132</td>\n",
       "      <td>Female</td>\n",
       "      <td>80.0</td>\n",
       "      <td>0</td>\n",
       "      <td>0</td>\n",
       "      <td>Yes</td>\n",
       "      <td>Govt_job</td>\n",
       "      <td>Urban</td>\n",
       "      <td>84.86</td>\n",
       "      <td>-99.0</td>\n",
       "      <td>Unknown</td>\n",
       "      <td>0</td>\n",
       "      <td>(75.0, 82.0]</td>\n",
       "      <td>(80.0, 85.6]</td>\n",
       "      <td>(-100, 10]</td>\n",
       "      <td>0.531739</td>\n",
       "    </tr>\n",
       "    <tr>\n",
       "      <th>686</th>\n",
       "      <td>1077</td>\n",
       "      <td>Male</td>\n",
       "      <td>77.0</td>\n",
       "      <td>0</td>\n",
       "      <td>1</td>\n",
       "      <td>Yes</td>\n",
       "      <td>Govt_job</td>\n",
       "      <td>Rural</td>\n",
       "      <td>106.03</td>\n",
       "      <td>-99.0</td>\n",
       "      <td>Unknown</td>\n",
       "      <td>0</td>\n",
       "      <td>(75.0, 82.0]</td>\n",
       "      <td>(98.9, 108.5]</td>\n",
       "      <td>(-100, 10]</td>\n",
       "      <td>0.520791</td>\n",
       "    </tr>\n",
       "    <tr>\n",
       "      <th>14</th>\n",
       "      <td>15102</td>\n",
       "      <td>Male</td>\n",
       "      <td>78.0</td>\n",
       "      <td>1</td>\n",
       "      <td>0</td>\n",
       "      <td>Yes</td>\n",
       "      <td>Private</td>\n",
       "      <td>Urban</td>\n",
       "      <td>75.32</td>\n",
       "      <td>-99.0</td>\n",
       "      <td>formerly smoked</td>\n",
       "      <td>1</td>\n",
       "      <td>(75.0, 82.0]</td>\n",
       "      <td>(73.8, 80.0]</td>\n",
       "      <td>(-100, 10]</td>\n",
       "      <td>0.517326</td>\n",
       "    </tr>\n",
       "    <tr>\n",
       "      <th>4</th>\n",
       "      <td>8213</td>\n",
       "      <td>Male</td>\n",
       "      <td>78.0</td>\n",
       "      <td>0</td>\n",
       "      <td>1</td>\n",
       "      <td>Yes</td>\n",
       "      <td>Private</td>\n",
       "      <td>Urban</td>\n",
       "      <td>219.84</td>\n",
       "      <td>-99.0</td>\n",
       "      <td>Unknown</td>\n",
       "      <td>1</td>\n",
       "      <td>(75.0, 82.0]</td>\n",
       "      <td>(192.2, 271.7]</td>\n",
       "      <td>(-100, 10]</td>\n",
       "      <td>0.305811</td>\n",
       "    </tr>\n",
       "    <tr>\n",
       "      <th>1483</th>\n",
       "      <td>10995</td>\n",
       "      <td>Male</td>\n",
       "      <td>76.0</td>\n",
       "      <td>1</td>\n",
       "      <td>0</td>\n",
       "      <td>Yes</td>\n",
       "      <td>Private</td>\n",
       "      <td>Rural</td>\n",
       "      <td>267.60</td>\n",
       "      <td>30.5</td>\n",
       "      <td>never smoked</td>\n",
       "      <td>0</td>\n",
       "      <td>(75.0, 82.0]</td>\n",
       "      <td>(192.2, 271.7]</td>\n",
       "      <td>(30, 35]</td>\n",
       "      <td>0.305160</td>\n",
       "    </tr>\n",
       "    <tr>\n",
       "      <th>92</th>\n",
       "      <td>4480</td>\n",
       "      <td>Male</td>\n",
       "      <td>76.0</td>\n",
       "      <td>0</td>\n",
       "      <td>0</td>\n",
       "      <td>Yes</td>\n",
       "      <td>Private</td>\n",
       "      <td>Rural</td>\n",
       "      <td>234.58</td>\n",
       "      <td>34.3</td>\n",
       "      <td>formerly smoked</td>\n",
       "      <td>0</td>\n",
       "      <td>(75.0, 82.0]</td>\n",
       "      <td>(192.2, 271.7]</td>\n",
       "      <td>(30, 35]</td>\n",
       "      <td>0.285260</td>\n",
       "    </tr>\n",
       "    <tr>\n",
       "      <th>6</th>\n",
       "      <td>25226</td>\n",
       "      <td>Male</td>\n",
       "      <td>57.0</td>\n",
       "      <td>0</td>\n",
       "      <td>1</td>\n",
       "      <td>No</td>\n",
       "      <td>Govt_job</td>\n",
       "      <td>Urban</td>\n",
       "      <td>217.08</td>\n",
       "      <td>-99.0</td>\n",
       "      <td>Unknown</td>\n",
       "      <td>1</td>\n",
       "      <td>(51.0, 57.0]</td>\n",
       "      <td>(192.2, 271.7]</td>\n",
       "      <td>(-100, 10]</td>\n",
       "      <td>0.280943</td>\n",
       "    </tr>\n",
       "    <tr>\n",
       "      <th>483</th>\n",
       "      <td>1842</td>\n",
       "      <td>Male</td>\n",
       "      <td>58.0</td>\n",
       "      <td>0</td>\n",
       "      <td>0</td>\n",
       "      <td>Yes</td>\n",
       "      <td>Private</td>\n",
       "      <td>Urban</td>\n",
       "      <td>94.00</td>\n",
       "      <td>-99.0</td>\n",
       "      <td>Unknown</td>\n",
       "      <td>0</td>\n",
       "      <td>(57.0, 65.0]</td>\n",
       "      <td>(91.9, 98.9]</td>\n",
       "      <td>(-100, 10]</td>\n",
       "      <td>0.257747</td>\n",
       "    </tr>\n",
       "    <tr>\n",
       "      <th>47</th>\n",
       "      <td>60739</td>\n",
       "      <td>Female</td>\n",
       "      <td>79.0</td>\n",
       "      <td>1</td>\n",
       "      <td>1</td>\n",
       "      <td>No</td>\n",
       "      <td>Self-employed</td>\n",
       "      <td>Rural</td>\n",
       "      <td>60.94</td>\n",
       "      <td>-99.0</td>\n",
       "      <td>never smoked</td>\n",
       "      <td>1</td>\n",
       "      <td>(75.0, 82.0]</td>\n",
       "      <td>(55.0, 65.8]</td>\n",
       "      <td>(-100, 10]</td>\n",
       "      <td>0.249228</td>\n",
       "    </tr>\n",
       "    <tr>\n",
       "      <th>938</th>\n",
       "      <td>37213</td>\n",
       "      <td>Male</td>\n",
       "      <td>60.0</td>\n",
       "      <td>0</td>\n",
       "      <td>0</td>\n",
       "      <td>Yes</td>\n",
       "      <td>Self-employed</td>\n",
       "      <td>Rural</td>\n",
       "      <td>212.02</td>\n",
       "      <td>-99.0</td>\n",
       "      <td>Unknown</td>\n",
       "      <td>0</td>\n",
       "      <td>(57.0, 65.0]</td>\n",
       "      <td>(192.2, 271.7]</td>\n",
       "      <td>(-100, 10]</td>\n",
       "      <td>0.240053</td>\n",
       "    </tr>\n",
       "    <tr>\n",
       "      <th>525</th>\n",
       "      <td>42465</td>\n",
       "      <td>Female</td>\n",
       "      <td>78.0</td>\n",
       "      <td>1</td>\n",
       "      <td>0</td>\n",
       "      <td>Yes</td>\n",
       "      <td>Private</td>\n",
       "      <td>Rural</td>\n",
       "      <td>58.66</td>\n",
       "      <td>16.4</td>\n",
       "      <td>never smoked</td>\n",
       "      <td>0</td>\n",
       "      <td>(75.0, 82.0]</td>\n",
       "      <td>(55.0, 65.8]</td>\n",
       "      <td>(10, 20]</td>\n",
       "      <td>0.234226</td>\n",
       "    </tr>\n",
       "    <tr>\n",
       "      <th>1422</th>\n",
       "      <td>71222</td>\n",
       "      <td>Male</td>\n",
       "      <td>75.0</td>\n",
       "      <td>1</td>\n",
       "      <td>0</td>\n",
       "      <td>Yes</td>\n",
       "      <td>Private</td>\n",
       "      <td>Urban</td>\n",
       "      <td>234.51</td>\n",
       "      <td>27.2</td>\n",
       "      <td>formerly smoked</td>\n",
       "      <td>0</td>\n",
       "      <td>(65.0, 75.0]</td>\n",
       "      <td>(192.2, 271.7]</td>\n",
       "      <td>(25, 30]</td>\n",
       "      <td>0.228648</td>\n",
       "    </tr>\n",
       "    <tr>\n",
       "      <th>971</th>\n",
       "      <td>65955</td>\n",
       "      <td>Male</td>\n",
       "      <td>81.0</td>\n",
       "      <td>1</td>\n",
       "      <td>1</td>\n",
       "      <td>No</td>\n",
       "      <td>Private</td>\n",
       "      <td>Rural</td>\n",
       "      <td>220.64</td>\n",
       "      <td>30.0</td>\n",
       "      <td>never smoked</td>\n",
       "      <td>0</td>\n",
       "      <td>(75.0, 82.0]</td>\n",
       "      <td>(192.2, 271.7]</td>\n",
       "      <td>(25, 30]</td>\n",
       "      <td>0.218974</td>\n",
       "    </tr>\n",
       "    <tr>\n",
       "      <th>1253</th>\n",
       "      <td>18696</td>\n",
       "      <td>Male</td>\n",
       "      <td>81.0</td>\n",
       "      <td>0</td>\n",
       "      <td>0</td>\n",
       "      <td>No</td>\n",
       "      <td>Private</td>\n",
       "      <td>Urban</td>\n",
       "      <td>168.68</td>\n",
       "      <td>23.4</td>\n",
       "      <td>formerly smoked</td>\n",
       "      <td>0</td>\n",
       "      <td>(75.0, 82.0]</td>\n",
       "      <td>(124.2, 192.2]</td>\n",
       "      <td>(20, 25]</td>\n",
       "      <td>0.215296</td>\n",
       "    </tr>\n",
       "    <tr>\n",
       "      <th>1519</th>\n",
       "      <td>18234</td>\n",
       "      <td>Female</td>\n",
       "      <td>80.0</td>\n",
       "      <td>1</td>\n",
       "      <td>0</td>\n",
       "      <td>Yes</td>\n",
       "      <td>Private</td>\n",
       "      <td>Urban</td>\n",
       "      <td>83.75</td>\n",
       "      <td>-99.0</td>\n",
       "      <td>never smoked</td>\n",
       "      <td>0</td>\n",
       "      <td>(75.0, 82.0]</td>\n",
       "      <td>(80.0, 85.6]</td>\n",
       "      <td>(-100, 10]</td>\n",
       "      <td>0.214234</td>\n",
       "    </tr>\n",
       "    <tr>\n",
       "      <th>792</th>\n",
       "      <td>15070</td>\n",
       "      <td>Male</td>\n",
       "      <td>76.0</td>\n",
       "      <td>0</td>\n",
       "      <td>1</td>\n",
       "      <td>Yes</td>\n",
       "      <td>Private</td>\n",
       "      <td>Rural</td>\n",
       "      <td>213.80</td>\n",
       "      <td>22.0</td>\n",
       "      <td>never smoked</td>\n",
       "      <td>0</td>\n",
       "      <td>(75.0, 82.0]</td>\n",
       "      <td>(192.2, 271.7]</td>\n",
       "      <td>(20, 25]</td>\n",
       "      <td>0.213477</td>\n",
       "    </tr>\n",
       "    <tr>\n",
       "      <th>769</th>\n",
       "      <td>5505</td>\n",
       "      <td>Female</td>\n",
       "      <td>76.0</td>\n",
       "      <td>0</td>\n",
       "      <td>0</td>\n",
       "      <td>Yes</td>\n",
       "      <td>Private</td>\n",
       "      <td>Urban</td>\n",
       "      <td>196.61</td>\n",
       "      <td>23.0</td>\n",
       "      <td>never smoked</td>\n",
       "      <td>0</td>\n",
       "      <td>(75.0, 82.0]</td>\n",
       "      <td>(192.2, 271.7]</td>\n",
       "      <td>(20, 25]</td>\n",
       "      <td>0.213306</td>\n",
       "    </tr>\n",
       "  </tbody>\n",
       "</table>\n",
       "</div>"
      ],
      "text/plain": [
       "         id  gender   age  hypertension  heart_disease ever_married  \\\n",
       "475   17752    Male  76.0             0              1          Yes   \n",
       "21     7356    Male  75.0             0              0          Yes   \n",
       "553    1741    Male  77.0             0              0          Yes   \n",
       "380     132  Female  80.0             0              0          Yes   \n",
       "686    1077    Male  77.0             0              1          Yes   \n",
       "14    15102    Male  78.0             1              0          Yes   \n",
       "4      8213    Male  78.0             0              1          Yes   \n",
       "1483  10995    Male  76.0             1              0          Yes   \n",
       "92     4480    Male  76.0             0              0          Yes   \n",
       "6     25226    Male  57.0             0              1           No   \n",
       "483    1842    Male  58.0             0              0          Yes   \n",
       "47    60739  Female  79.0             1              1           No   \n",
       "938   37213    Male  60.0             0              0          Yes   \n",
       "525   42465  Female  78.0             1              0          Yes   \n",
       "1422  71222    Male  75.0             1              0          Yes   \n",
       "971   65955    Male  81.0             1              1           No   \n",
       "1253  18696    Male  81.0             0              0           No   \n",
       "1519  18234  Female  80.0             1              0          Yes   \n",
       "792   15070    Male  76.0             0              1          Yes   \n",
       "769    5505  Female  76.0             0              0          Yes   \n",
       "\n",
       "          work_type residence_type  avg_glucose_level   bmi   smoking_status  \\\n",
       "475         Private          Urban              79.05 -99.0          Unknown   \n",
       "21          Private          Urban             104.72 -99.0          Unknown   \n",
       "553         Private          Urban              74.26 -99.0  formerly smoked   \n",
       "380        Govt_job          Urban              84.86 -99.0          Unknown   \n",
       "686        Govt_job          Rural             106.03 -99.0          Unknown   \n",
       "14          Private          Urban              75.32 -99.0  formerly smoked   \n",
       "4           Private          Urban             219.84 -99.0          Unknown   \n",
       "1483        Private          Rural             267.60  30.5     never smoked   \n",
       "92          Private          Rural             234.58  34.3  formerly smoked   \n",
       "6          Govt_job          Urban             217.08 -99.0          Unknown   \n",
       "483         Private          Urban              94.00 -99.0          Unknown   \n",
       "47    Self-employed          Rural              60.94 -99.0     never smoked   \n",
       "938   Self-employed          Rural             212.02 -99.0          Unknown   \n",
       "525         Private          Rural              58.66  16.4     never smoked   \n",
       "1422        Private          Urban             234.51  27.2  formerly smoked   \n",
       "971         Private          Rural             220.64  30.0     never smoked   \n",
       "1253        Private          Urban             168.68  23.4  formerly smoked   \n",
       "1519        Private          Urban              83.75 -99.0     never smoked   \n",
       "792         Private          Rural             213.80  22.0     never smoked   \n",
       "769         Private          Urban             196.61  23.0     never smoked   \n",
       "\n",
       "      target       age_bin avg_glucose_level_bin     bmi_bin  prediction  \n",
       "475        0  (75.0, 82.0]          (73.8, 80.0]  (-100, 10]    0.561063  \n",
       "21         1  (65.0, 75.0]         (98.9, 108.5]  (-100, 10]    0.550400  \n",
       "553        0  (75.0, 82.0]          (73.8, 80.0]  (-100, 10]    0.545057  \n",
       "380        0  (75.0, 82.0]          (80.0, 85.6]  (-100, 10]    0.531739  \n",
       "686        0  (75.0, 82.0]         (98.9, 108.5]  (-100, 10]    0.520791  \n",
       "14         1  (75.0, 82.0]          (73.8, 80.0]  (-100, 10]    0.517326  \n",
       "4          1  (75.0, 82.0]        (192.2, 271.7]  (-100, 10]    0.305811  \n",
       "1483       0  (75.0, 82.0]        (192.2, 271.7]    (30, 35]    0.305160  \n",
       "92         0  (75.0, 82.0]        (192.2, 271.7]    (30, 35]    0.285260  \n",
       "6          1  (51.0, 57.0]        (192.2, 271.7]  (-100, 10]    0.280943  \n",
       "483        0  (57.0, 65.0]          (91.9, 98.9]  (-100, 10]    0.257747  \n",
       "47         1  (75.0, 82.0]          (55.0, 65.8]  (-100, 10]    0.249228  \n",
       "938        0  (57.0, 65.0]        (192.2, 271.7]  (-100, 10]    0.240053  \n",
       "525        0  (75.0, 82.0]          (55.0, 65.8]    (10, 20]    0.234226  \n",
       "1422       0  (65.0, 75.0]        (192.2, 271.7]    (25, 30]    0.228648  \n",
       "971        0  (75.0, 82.0]        (192.2, 271.7]    (25, 30]    0.218974  \n",
       "1253       0  (75.0, 82.0]        (124.2, 192.2]    (20, 25]    0.215296  \n",
       "1519       0  (75.0, 82.0]          (80.0, 85.6]  (-100, 10]    0.214234  \n",
       "792        0  (75.0, 82.0]        (192.2, 271.7]    (20, 25]    0.213477  \n",
       "769        0  (75.0, 82.0]        (192.2, 271.7]    (20, 25]    0.213306  "
      ]
     },
     "execution_count": 51,
     "metadata": {},
     "output_type": "execute_result"
    }
   ],
   "source": [
    "# show most endangered patients (according to our model) in test set\n",
    "df_high_20 = df_test.nlargest(20, columns='prediction')\n",
    "df_high_20"
   ]
  },
  {
   "cell_type": "markdown",
   "metadata": {
    "papermill": {
     "duration": 0.113432,
     "end_time": "2022-08-01T09:43:47.416566",
     "exception": false,
     "start_time": "2022-08-01T09:43:47.303134",
     "status": "completed"
    },
    "tags": []
   },
   "source": [
    "#### Check calibration at high end:"
   ]
  },
  {
   "cell_type": "code",
   "execution_count": 52,
   "metadata": {
    "execution": {
     "iopub.execute_input": "2022-08-01T09:43:47.722833Z",
     "iopub.status.busy": "2022-08-01T09:43:47.722085Z",
     "iopub.status.idle": "2022-08-01T09:43:47.731971Z",
     "shell.execute_reply": "2022-08-01T09:43:47.732606Z",
     "shell.execute_reply.started": "2022-08-01T09:42:25.121451Z"
    },
    "papermill": {
     "duration": 0.190528,
     "end_time": "2022-08-01T09:43:47.732791",
     "exception": false,
     "start_time": "2022-08-01T09:43:47.542263",
     "status": "completed"
    },
    "tags": []
   },
   "outputs": [
    {
     "name": "stdout",
     "output_type": "stream",
     "text": [
      "Actual cases in highest 20    : 5\n",
      "Predicted cases in highest 20 : 6.69\n"
     ]
    }
   ],
   "source": [
    "print('Actual cases in highest 20    :', df_high_20.target.sum())\n",
    "print('Predicted cases in highest 20 :', np.round(df_high_20.prediction.sum(),2))"
   ]
  },
  {
   "cell_type": "code",
   "execution_count": 53,
   "metadata": {
    "execution": {
     "iopub.execute_input": "2022-08-01T09:43:48.113489Z",
     "iopub.status.busy": "2022-08-01T09:43:48.080844Z",
     "iopub.status.idle": "2022-08-01T09:43:48.117713Z",
     "shell.execute_reply": "2022-08-01T09:43:48.117104Z",
     "shell.execute_reply.started": "2022-08-01T09:42:27.004952Z"
    },
    "papermill": {
     "duration": 0.214642,
     "end_time": "2022-08-01T09:43:48.117848",
     "exception": false,
     "start_time": "2022-08-01T09:43:47.903206",
     "status": "completed"
    },
    "tags": []
   },
   "outputs": [
    {
     "data": {
      "text/html": [
       "<div>\n",
       "<style scoped>\n",
       "    .dataframe tbody tr th:only-of-type {\n",
       "        vertical-align: middle;\n",
       "    }\n",
       "\n",
       "    .dataframe tbody tr th {\n",
       "        vertical-align: top;\n",
       "    }\n",
       "\n",
       "    .dataframe thead th {\n",
       "        text-align: right;\n",
       "    }\n",
       "</style>\n",
       "<table border=\"1\" class=\"dataframe\">\n",
       "  <thead>\n",
       "    <tr style=\"text-align: right;\">\n",
       "      <th></th>\n",
       "      <th>id</th>\n",
       "      <th>gender</th>\n",
       "      <th>age</th>\n",
       "      <th>hypertension</th>\n",
       "      <th>heart_disease</th>\n",
       "      <th>ever_married</th>\n",
       "      <th>work_type</th>\n",
       "      <th>residence_type</th>\n",
       "      <th>avg_glucose_level</th>\n",
       "      <th>bmi</th>\n",
       "      <th>smoking_status</th>\n",
       "      <th>target</th>\n",
       "      <th>age_bin</th>\n",
       "      <th>avg_glucose_level_bin</th>\n",
       "      <th>bmi_bin</th>\n",
       "      <th>prediction</th>\n",
       "    </tr>\n",
       "  </thead>\n",
       "  <tbody>\n",
       "    <tr>\n",
       "      <th>788</th>\n",
       "      <td>57904</td>\n",
       "      <td>Male</td>\n",
       "      <td>15.0</td>\n",
       "      <td>0</td>\n",
       "      <td>0</td>\n",
       "      <td>No</td>\n",
       "      <td>Private</td>\n",
       "      <td>Urban</td>\n",
       "      <td>190.13</td>\n",
       "      <td>20.7</td>\n",
       "      <td>never smoked</td>\n",
       "      <td>0</td>\n",
       "      <td>(11.0, 20.0]</td>\n",
       "      <td>(124.2, 192.2]</td>\n",
       "      <td>(20, 25]</td>\n",
       "      <td>0.020934</td>\n",
       "    </tr>\n",
       "    <tr>\n",
       "      <th>67</th>\n",
       "      <td>46136</td>\n",
       "      <td>Male</td>\n",
       "      <td>14.0</td>\n",
       "      <td>0</td>\n",
       "      <td>0</td>\n",
       "      <td>No</td>\n",
       "      <td>Never_worked</td>\n",
       "      <td>Rural</td>\n",
       "      <td>161.28</td>\n",
       "      <td>19.1</td>\n",
       "      <td>Unknown</td>\n",
       "      <td>0</td>\n",
       "      <td>(11.0, 20.0]</td>\n",
       "      <td>(124.2, 192.2]</td>\n",
       "      <td>(10, 20]</td>\n",
       "      <td>0.020988</td>\n",
       "    </tr>\n",
       "    <tr>\n",
       "      <th>83</th>\n",
       "      <td>55680</td>\n",
       "      <td>Male</td>\n",
       "      <td>13.0</td>\n",
       "      <td>0</td>\n",
       "      <td>0</td>\n",
       "      <td>No</td>\n",
       "      <td>children</td>\n",
       "      <td>Urban</td>\n",
       "      <td>114.84</td>\n",
       "      <td>18.3</td>\n",
       "      <td>Unknown</td>\n",
       "      <td>0</td>\n",
       "      <td>(11.0, 20.0]</td>\n",
       "      <td>(108.5, 124.2]</td>\n",
       "      <td>(10, 20]</td>\n",
       "      <td>0.020988</td>\n",
       "    </tr>\n",
       "    <tr>\n",
       "      <th>98</th>\n",
       "      <td>42996</td>\n",
       "      <td>Female</td>\n",
       "      <td>36.0</td>\n",
       "      <td>0</td>\n",
       "      <td>0</td>\n",
       "      <td>No</td>\n",
       "      <td>Govt_job</td>\n",
       "      <td>Rural</td>\n",
       "      <td>126.82</td>\n",
       "      <td>23.3</td>\n",
       "      <td>never smoked</td>\n",
       "      <td>0</td>\n",
       "      <td>(30.0, 38.0]</td>\n",
       "      <td>(124.2, 192.2]</td>\n",
       "      <td>(20, 25]</td>\n",
       "      <td>0.020988</td>\n",
       "    </tr>\n",
       "    <tr>\n",
       "      <th>118</th>\n",
       "      <td>56681</td>\n",
       "      <td>Female</td>\n",
       "      <td>22.0</td>\n",
       "      <td>0</td>\n",
       "      <td>0</td>\n",
       "      <td>No</td>\n",
       "      <td>Private</td>\n",
       "      <td>Urban</td>\n",
       "      <td>130.34</td>\n",
       "      <td>22.0</td>\n",
       "      <td>never smoked</td>\n",
       "      <td>0</td>\n",
       "      <td>(20.0, 30.0]</td>\n",
       "      <td>(124.2, 192.2]</td>\n",
       "      <td>(20, 25]</td>\n",
       "      <td>0.020988</td>\n",
       "    </tr>\n",
       "    <tr>\n",
       "      <th>125</th>\n",
       "      <td>34376</td>\n",
       "      <td>Female</td>\n",
       "      <td>16.0</td>\n",
       "      <td>0</td>\n",
       "      <td>0</td>\n",
       "      <td>No</td>\n",
       "      <td>children</td>\n",
       "      <td>Rural</td>\n",
       "      <td>113.47</td>\n",
       "      <td>19.5</td>\n",
       "      <td>Unknown</td>\n",
       "      <td>0</td>\n",
       "      <td>(11.0, 20.0]</td>\n",
       "      <td>(108.5, 124.2]</td>\n",
       "      <td>(10, 20]</td>\n",
       "      <td>0.020988</td>\n",
       "    </tr>\n",
       "    <tr>\n",
       "      <th>143</th>\n",
       "      <td>22622</td>\n",
       "      <td>Male</td>\n",
       "      <td>10.0</td>\n",
       "      <td>0</td>\n",
       "      <td>0</td>\n",
       "      <td>No</td>\n",
       "      <td>children</td>\n",
       "      <td>Rural</td>\n",
       "      <td>108.79</td>\n",
       "      <td>21.0</td>\n",
       "      <td>Unknown</td>\n",
       "      <td>0</td>\n",
       "      <td>(-0.020000000000000004, 11.0]</td>\n",
       "      <td>(108.5, 124.2]</td>\n",
       "      <td>(20, 25]</td>\n",
       "      <td>0.020988</td>\n",
       "    </tr>\n",
       "    <tr>\n",
       "      <th>161</th>\n",
       "      <td>61408</td>\n",
       "      <td>Male</td>\n",
       "      <td>23.0</td>\n",
       "      <td>0</td>\n",
       "      <td>0</td>\n",
       "      <td>No</td>\n",
       "      <td>Never_worked</td>\n",
       "      <td>Urban</td>\n",
       "      <td>125.26</td>\n",
       "      <td>18.7</td>\n",
       "      <td>never smoked</td>\n",
       "      <td>0</td>\n",
       "      <td>(20.0, 30.0]</td>\n",
       "      <td>(124.2, 192.2]</td>\n",
       "      <td>(10, 20]</td>\n",
       "      <td>0.020988</td>\n",
       "    </tr>\n",
       "    <tr>\n",
       "      <th>175</th>\n",
       "      <td>20364</td>\n",
       "      <td>Female</td>\n",
       "      <td>4.0</td>\n",
       "      <td>0</td>\n",
       "      <td>0</td>\n",
       "      <td>No</td>\n",
       "      <td>children</td>\n",
       "      <td>Urban</td>\n",
       "      <td>107.25</td>\n",
       "      <td>12.0</td>\n",
       "      <td>Unknown</td>\n",
       "      <td>0</td>\n",
       "      <td>(-0.020000000000000004, 11.0]</td>\n",
       "      <td>(98.9, 108.5]</td>\n",
       "      <td>(10, 20]</td>\n",
       "      <td>0.020988</td>\n",
       "    </tr>\n",
       "    <tr>\n",
       "      <th>254</th>\n",
       "      <td>32554</td>\n",
       "      <td>Female</td>\n",
       "      <td>16.0</td>\n",
       "      <td>0</td>\n",
       "      <td>0</td>\n",
       "      <td>No</td>\n",
       "      <td>children</td>\n",
       "      <td>Rural</td>\n",
       "      <td>109.02</td>\n",
       "      <td>19.8</td>\n",
       "      <td>Unknown</td>\n",
       "      <td>0</td>\n",
       "      <td>(11.0, 20.0]</td>\n",
       "      <td>(108.5, 124.2]</td>\n",
       "      <td>(10, 20]</td>\n",
       "      <td>0.020988</td>\n",
       "    </tr>\n",
       "    <tr>\n",
       "      <th>258</th>\n",
       "      <td>56679</td>\n",
       "      <td>Male</td>\n",
       "      <td>19.0</td>\n",
       "      <td>0</td>\n",
       "      <td>0</td>\n",
       "      <td>No</td>\n",
       "      <td>Private</td>\n",
       "      <td>Rural</td>\n",
       "      <td>142.57</td>\n",
       "      <td>22.8</td>\n",
       "      <td>Unknown</td>\n",
       "      <td>0</td>\n",
       "      <td>(11.0, 20.0]</td>\n",
       "      <td>(124.2, 192.2]</td>\n",
       "      <td>(20, 25]</td>\n",
       "      <td>0.020988</td>\n",
       "    </tr>\n",
       "    <tr>\n",
       "      <th>272</th>\n",
       "      <td>11973</td>\n",
       "      <td>Female</td>\n",
       "      <td>10.0</td>\n",
       "      <td>0</td>\n",
       "      <td>0</td>\n",
       "      <td>No</td>\n",
       "      <td>children</td>\n",
       "      <td>Urban</td>\n",
       "      <td>124.60</td>\n",
       "      <td>18.6</td>\n",
       "      <td>Unknown</td>\n",
       "      <td>0</td>\n",
       "      <td>(-0.020000000000000004, 11.0]</td>\n",
       "      <td>(124.2, 192.2]</td>\n",
       "      <td>(10, 20]</td>\n",
       "      <td>0.020988</td>\n",
       "    </tr>\n",
       "    <tr>\n",
       "      <th>305</th>\n",
       "      <td>43146</td>\n",
       "      <td>Male</td>\n",
       "      <td>8.0</td>\n",
       "      <td>0</td>\n",
       "      <td>0</td>\n",
       "      <td>No</td>\n",
       "      <td>children</td>\n",
       "      <td>Urban</td>\n",
       "      <td>106.40</td>\n",
       "      <td>18.3</td>\n",
       "      <td>Unknown</td>\n",
       "      <td>0</td>\n",
       "      <td>(-0.020000000000000004, 11.0]</td>\n",
       "      <td>(98.9, 108.5]</td>\n",
       "      <td>(10, 20]</td>\n",
       "      <td>0.020988</td>\n",
       "    </tr>\n",
       "    <tr>\n",
       "      <th>329</th>\n",
       "      <td>51162</td>\n",
       "      <td>Female</td>\n",
       "      <td>11.0</td>\n",
       "      <td>0</td>\n",
       "      <td>0</td>\n",
       "      <td>No</td>\n",
       "      <td>children</td>\n",
       "      <td>Rural</td>\n",
       "      <td>122.75</td>\n",
       "      <td>14.3</td>\n",
       "      <td>Unknown</td>\n",
       "      <td>0</td>\n",
       "      <td>(-0.020000000000000004, 11.0]</td>\n",
       "      <td>(108.5, 124.2]</td>\n",
       "      <td>(10, 20]</td>\n",
       "      <td>0.020988</td>\n",
       "    </tr>\n",
       "    <tr>\n",
       "      <th>340</th>\n",
       "      <td>41565</td>\n",
       "      <td>Female</td>\n",
       "      <td>33.0</td>\n",
       "      <td>0</td>\n",
       "      <td>0</td>\n",
       "      <td>No</td>\n",
       "      <td>Private</td>\n",
       "      <td>Urban</td>\n",
       "      <td>121.19</td>\n",
       "      <td>22.1</td>\n",
       "      <td>never smoked</td>\n",
       "      <td>0</td>\n",
       "      <td>(30.0, 38.0]</td>\n",
       "      <td>(108.5, 124.2]</td>\n",
       "      <td>(20, 25]</td>\n",
       "      <td>0.020988</td>\n",
       "    </tr>\n",
       "    <tr>\n",
       "      <th>364</th>\n",
       "      <td>44192</td>\n",
       "      <td>Female</td>\n",
       "      <td>11.0</td>\n",
       "      <td>0</td>\n",
       "      <td>0</td>\n",
       "      <td>No</td>\n",
       "      <td>children</td>\n",
       "      <td>Urban</td>\n",
       "      <td>130.15</td>\n",
       "      <td>17.2</td>\n",
       "      <td>Unknown</td>\n",
       "      <td>0</td>\n",
       "      <td>(-0.020000000000000004, 11.0]</td>\n",
       "      <td>(124.2, 192.2]</td>\n",
       "      <td>(10, 20]</td>\n",
       "      <td>0.020988</td>\n",
       "    </tr>\n",
       "    <tr>\n",
       "      <th>373</th>\n",
       "      <td>55976</td>\n",
       "      <td>Male</td>\n",
       "      <td>5.0</td>\n",
       "      <td>0</td>\n",
       "      <td>0</td>\n",
       "      <td>No</td>\n",
       "      <td>children</td>\n",
       "      <td>Rural</td>\n",
       "      <td>145.71</td>\n",
       "      <td>18.1</td>\n",
       "      <td>Unknown</td>\n",
       "      <td>0</td>\n",
       "      <td>(-0.020000000000000004, 11.0]</td>\n",
       "      <td>(124.2, 192.2]</td>\n",
       "      <td>(10, 20]</td>\n",
       "      <td>0.020988</td>\n",
       "    </tr>\n",
       "    <tr>\n",
       "      <th>413</th>\n",
       "      <td>13062</td>\n",
       "      <td>Male</td>\n",
       "      <td>18.0</td>\n",
       "      <td>0</td>\n",
       "      <td>0</td>\n",
       "      <td>No</td>\n",
       "      <td>Private</td>\n",
       "      <td>Rural</td>\n",
       "      <td>123.79</td>\n",
       "      <td>20.5</td>\n",
       "      <td>Unknown</td>\n",
       "      <td>0</td>\n",
       "      <td>(11.0, 20.0]</td>\n",
       "      <td>(108.5, 124.2]</td>\n",
       "      <td>(20, 25]</td>\n",
       "      <td>0.020988</td>\n",
       "    </tr>\n",
       "    <tr>\n",
       "      <th>428</th>\n",
       "      <td>47627</td>\n",
       "      <td>Male</td>\n",
       "      <td>8.0</td>\n",
       "      <td>0</td>\n",
       "      <td>0</td>\n",
       "      <td>No</td>\n",
       "      <td>children</td>\n",
       "      <td>Urban</td>\n",
       "      <td>107.69</td>\n",
       "      <td>20.3</td>\n",
       "      <td>Unknown</td>\n",
       "      <td>0</td>\n",
       "      <td>(-0.020000000000000004, 11.0]</td>\n",
       "      <td>(98.9, 108.5]</td>\n",
       "      <td>(20, 25]</td>\n",
       "      <td>0.020988</td>\n",
       "    </tr>\n",
       "    <tr>\n",
       "      <th>552</th>\n",
       "      <td>47751</td>\n",
       "      <td>Female</td>\n",
       "      <td>19.0</td>\n",
       "      <td>0</td>\n",
       "      <td>0</td>\n",
       "      <td>No</td>\n",
       "      <td>Private</td>\n",
       "      <td>Urban</td>\n",
       "      <td>131.23</td>\n",
       "      <td>21.1</td>\n",
       "      <td>Unknown</td>\n",
       "      <td>0</td>\n",
       "      <td>(11.0, 20.0]</td>\n",
       "      <td>(124.2, 192.2]</td>\n",
       "      <td>(20, 25]</td>\n",
       "      <td>0.020988</td>\n",
       "    </tr>\n",
       "  </tbody>\n",
       "</table>\n",
       "</div>"
      ],
      "text/plain": [
       "        id  gender   age  hypertension  heart_disease ever_married  \\\n",
       "788  57904    Male  15.0             0              0           No   \n",
       "67   46136    Male  14.0             0              0           No   \n",
       "83   55680    Male  13.0             0              0           No   \n",
       "98   42996  Female  36.0             0              0           No   \n",
       "118  56681  Female  22.0             0              0           No   \n",
       "125  34376  Female  16.0             0              0           No   \n",
       "143  22622    Male  10.0             0              0           No   \n",
       "161  61408    Male  23.0             0              0           No   \n",
       "175  20364  Female   4.0             0              0           No   \n",
       "254  32554  Female  16.0             0              0           No   \n",
       "258  56679    Male  19.0             0              0           No   \n",
       "272  11973  Female  10.0             0              0           No   \n",
       "305  43146    Male   8.0             0              0           No   \n",
       "329  51162  Female  11.0             0              0           No   \n",
       "340  41565  Female  33.0             0              0           No   \n",
       "364  44192  Female  11.0             0              0           No   \n",
       "373  55976    Male   5.0             0              0           No   \n",
       "413  13062    Male  18.0             0              0           No   \n",
       "428  47627    Male   8.0             0              0           No   \n",
       "552  47751  Female  19.0             0              0           No   \n",
       "\n",
       "        work_type residence_type  avg_glucose_level   bmi smoking_status  \\\n",
       "788       Private          Urban             190.13  20.7   never smoked   \n",
       "67   Never_worked          Rural             161.28  19.1        Unknown   \n",
       "83       children          Urban             114.84  18.3        Unknown   \n",
       "98       Govt_job          Rural             126.82  23.3   never smoked   \n",
       "118       Private          Urban             130.34  22.0   never smoked   \n",
       "125      children          Rural             113.47  19.5        Unknown   \n",
       "143      children          Rural             108.79  21.0        Unknown   \n",
       "161  Never_worked          Urban             125.26  18.7   never smoked   \n",
       "175      children          Urban             107.25  12.0        Unknown   \n",
       "254      children          Rural             109.02  19.8        Unknown   \n",
       "258       Private          Rural             142.57  22.8        Unknown   \n",
       "272      children          Urban             124.60  18.6        Unknown   \n",
       "305      children          Urban             106.40  18.3        Unknown   \n",
       "329      children          Rural             122.75  14.3        Unknown   \n",
       "340       Private          Urban             121.19  22.1   never smoked   \n",
       "364      children          Urban             130.15  17.2        Unknown   \n",
       "373      children          Rural             145.71  18.1        Unknown   \n",
       "413       Private          Rural             123.79  20.5        Unknown   \n",
       "428      children          Urban             107.69  20.3        Unknown   \n",
       "552       Private          Urban             131.23  21.1        Unknown   \n",
       "\n",
       "     target                        age_bin avg_glucose_level_bin   bmi_bin  \\\n",
       "788       0                   (11.0, 20.0]        (124.2, 192.2]  (20, 25]   \n",
       "67        0                   (11.0, 20.0]        (124.2, 192.2]  (10, 20]   \n",
       "83        0                   (11.0, 20.0]        (108.5, 124.2]  (10, 20]   \n",
       "98        0                   (30.0, 38.0]        (124.2, 192.2]  (20, 25]   \n",
       "118       0                   (20.0, 30.0]        (124.2, 192.2]  (20, 25]   \n",
       "125       0                   (11.0, 20.0]        (108.5, 124.2]  (10, 20]   \n",
       "143       0  (-0.020000000000000004, 11.0]        (108.5, 124.2]  (20, 25]   \n",
       "161       0                   (20.0, 30.0]        (124.2, 192.2]  (10, 20]   \n",
       "175       0  (-0.020000000000000004, 11.0]         (98.9, 108.5]  (10, 20]   \n",
       "254       0                   (11.0, 20.0]        (108.5, 124.2]  (10, 20]   \n",
       "258       0                   (11.0, 20.0]        (124.2, 192.2]  (20, 25]   \n",
       "272       0  (-0.020000000000000004, 11.0]        (124.2, 192.2]  (10, 20]   \n",
       "305       0  (-0.020000000000000004, 11.0]         (98.9, 108.5]  (10, 20]   \n",
       "329       0  (-0.020000000000000004, 11.0]        (108.5, 124.2]  (10, 20]   \n",
       "340       0                   (30.0, 38.0]        (108.5, 124.2]  (20, 25]   \n",
       "364       0  (-0.020000000000000004, 11.0]        (124.2, 192.2]  (10, 20]   \n",
       "373       0  (-0.020000000000000004, 11.0]        (124.2, 192.2]  (10, 20]   \n",
       "413       0                   (11.0, 20.0]        (108.5, 124.2]  (20, 25]   \n",
       "428       0  (-0.020000000000000004, 11.0]         (98.9, 108.5]  (20, 25]   \n",
       "552       0                   (11.0, 20.0]        (124.2, 192.2]  (20, 25]   \n",
       "\n",
       "     prediction  \n",
       "788    0.020934  \n",
       "67     0.020988  \n",
       "83     0.020988  \n",
       "98     0.020988  \n",
       "118    0.020988  \n",
       "125    0.020988  \n",
       "143    0.020988  \n",
       "161    0.020988  \n",
       "175    0.020988  \n",
       "254    0.020988  \n",
       "258    0.020988  \n",
       "272    0.020988  \n",
       "305    0.020988  \n",
       "329    0.020988  \n",
       "340    0.020988  \n",
       "364    0.020988  \n",
       "373    0.020988  \n",
       "413    0.020988  \n",
       "428    0.020988  \n",
       "552    0.020988  "
      ]
     },
     "execution_count": 53,
     "metadata": {},
     "output_type": "execute_result"
    }
   ],
   "source": [
    "# show least endangered patients (according to our model) in test set\n",
    "df_low_20 = df_test.nsmallest(20, columns='prediction')\n",
    "df_low_20"
   ]
  },
  {
   "cell_type": "markdown",
   "metadata": {
    "papermill": {
     "duration": 0.167621,
     "end_time": "2022-08-01T09:43:48.454876",
     "exception": false,
     "start_time": "2022-08-01T09:43:48.287255",
     "status": "completed"
    },
    "tags": []
   },
   "source": [
    "#### Check calibration at low end:"
   ]
  },
  {
   "cell_type": "code",
   "execution_count": 54,
   "metadata": {
    "execution": {
     "iopub.execute_input": "2022-08-01T09:43:48.793588Z",
     "iopub.status.busy": "2022-08-01T09:43:48.792880Z",
     "iopub.status.idle": "2022-08-01T09:43:48.804537Z",
     "shell.execute_reply": "2022-08-01T09:43:48.803880Z",
     "shell.execute_reply.started": "2022-08-01T09:42:29.144929Z"
    },
    "papermill": {
     "duration": 0.181431,
     "end_time": "2022-08-01T09:43:48.804669",
     "exception": false,
     "start_time": "2022-08-01T09:43:48.623238",
     "status": "completed"
    },
    "tags": []
   },
   "outputs": [
    {
     "name": "stdout",
     "output_type": "stream",
     "text": [
      "Actual cases in lowest 20    : 0\n",
      "Predicted cases in lowest 20 : 0.42\n"
     ]
    }
   ],
   "source": [
    "print('Actual cases in lowest 20    :', df_low_20.target.sum())\n",
    "print('Predicted cases in lowest 20 :', np.round(df_low_20.prediction.sum(),2))"
   ]
  }
 ],
 "metadata": {
  "kernelspec": {
   "display_name": "Python 3",
   "language": "python",
   "name": "python3"
  },
  "language_info": {
   "codemirror_mode": {
    "name": "ipython",
    "version": 3
   },
   "file_extension": ".py",
   "mimetype": "text/x-python",
   "name": "python",
   "nbconvert_exporter": "python",
   "pygments_lexer": "ipython3",
   "version": "3.7.9"
  },
  "papermill": {
   "default_parameters": {},
   "duration": 67.236261,
   "end_time": "2022-08-01T09:43:50.287321",
   "environment_variables": {},
   "exception": null,
   "input_path": "__notebook__.ipynb",
   "output_path": "__notebook__.ipynb",
   "parameters": {},
   "start_time": "2022-08-01T09:42:43.051060",
   "version": "2.2.2"
  }
 },
 "nbformat": 4,
 "nbformat_minor": 4
}
